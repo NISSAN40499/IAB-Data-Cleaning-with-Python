{
 "cells": [
  {
   "cell_type": "markdown",
   "id": "10c079af-bcc2-48ef-8a40-07857b6f68b1",
   "metadata": {},
   "source": [
    "# Import CSV dataset"
   ]
  },
  {
   "cell_type": "code",
   "execution_count": 1,
   "id": "809a77ae-756b-480b-a281-0f59b16a3e98",
   "metadata": {},
   "outputs": [],
   "source": [
    "import numpy as np\n",
    "import pandas as pd"
   ]
  },
  {
   "cell_type": "code",
   "execution_count": 3,
   "id": "afde1cbe-25c8-4f1d-8894-1b8b8ab31943",
   "metadata": {},
   "outputs": [
    {
     "name": "stdout",
     "output_type": "stream",
     "text": [
      "File exists\n"
     ]
    }
   ],
   "source": [
    "import os\n",
    "file_path = r\"F:\\Python dummy cleaning data.csv\"\n",
    "if os.path.exists(file_path):\n",
    "    print(\"File exists\")\n",
    "else:\n",
    "    print(\"File does not exist\")"
   ]
  },
  {
   "cell_type": "code",
   "execution_count": 5,
   "id": "fbc90b1b-7024-402f-9150-c6ad9c8063ff",
   "metadata": {},
   "outputs": [
    {
     "name": "stdout",
     "output_type": "stream",
     "text": [
      "File failed to read: ['utf-8', 'ISO-8859-1', 'latin1', 'utf-16']\n",
      "File successfully Encoded:['utf-8', 'ISO-8859-1', 'latin1', 'utf-16']\n"
     ]
    },
    {
     "data": {
      "text/html": [
       "<div>\n",
       "<style scoped>\n",
       "    .dataframe tbody tr th:only-of-type {\n",
       "        vertical-align: middle;\n",
       "    }\n",
       "\n",
       "    .dataframe tbody tr th {\n",
       "        vertical-align: top;\n",
       "    }\n",
       "\n",
       "    .dataframe thead th {\n",
       "        text-align: right;\n",
       "    }\n",
       "</style>\n",
       "<table border=\"1\" class=\"dataframe\">\n",
       "  <thead>\n",
       "    <tr style=\"text-align: right;\">\n",
       "      <th></th>\n",
       "      <th>IAB ID</th>\n",
       "      <th>COMPANY NAME</th>\n",
       "      <th>EMAIL</th>\n",
       "      <th>NAME OF PROPRIETOR/ PARTNER/ DIRECTOR(s) &amp; DESIGNATION:</th>\n",
       "      <th>FULL TIME TECHNICAL PERSONNEL OF THE FIRM/COMPANY:</th>\n",
       "      <th>OFFICE ADDRESS</th>\n",
       "      <th>Rating</th>\n",
       "      <th>WEBSITE</th>\n",
       "    </tr>\n",
       "  </thead>\n",
       "  <tbody>\n",
       "    <tr>\n",
       "      <th>0</th>\n",
       "      <td>IAB-RP-W01</td>\n",
       "      <td>ABASHAN UPODESHTA LIMITED (Est-1996)</td>\n",
       "      <td>mail@abashan.com</td>\n",
       "      <td>Ar. Luva Nahid Chowdhury (C-018) Managing Dire...</td>\n",
       "      <td>3 2 Total 5</td>\n",
       "      <td>Bengal Centre, Plot 2, Civil Aviation, New Ai...</td>\n",
       "      <td>4.7</td>\n",
       "      <td>www.4wallsbd.com</td>\n",
       "    </tr>\n",
       "    <tr>\n",
       "      <th>1</th>\n",
       "      <td>IAB-RP-V07</td>\n",
       "      <td>ADS ARCHITECTS DESIGN STUDIO (Est-2005)</td>\n",
       "      <td>ads.architectstudio@gmail.com Contact: +88-02...</td>\n",
       "      <td>Ar. Md. Sayedul Hasan (H-103) Principal Architect</td>\n",
       "      <td>4 1 Total 5</td>\n",
       "      <td>House#29-31, Road#18, Sector#7, Uttara , Dhak...</td>\n",
       "      <td>4.4</td>\n",
       "      <td>www.vitti.com.bd</td>\n",
       "    </tr>\n",
       "    <tr>\n",
       "      <th>2</th>\n",
       "      <td>IAB-RP-V06</td>\n",
       "      <td>AKRITY (Est-2008)</td>\n",
       "      <td>akriti.si@gmail.com,</td>\n",
       "      <td>Ar. Monir Hossain Khan (K-104) Architect</td>\n",
       "      <td>1 7 Total 8</td>\n",
       "      <td>House-10/GA (GF), Road-2, Shyamoli, Dhaka</td>\n",
       "      <td>4.7</td>\n",
       "      <td>NaN</td>\n",
       "    </tr>\n",
       "  </tbody>\n",
       "</table>\n",
       "</div>"
      ],
      "text/plain": [
       "       IAB ID                             COMPANY NAME  \\\n",
       "0  IAB-RP-W01     ABASHAN UPODESHTA LIMITED (Est-1996)   \n",
       "1  IAB-RP-V07  ADS ARCHITECTS DESIGN STUDIO (Est-2005)   \n",
       "2  IAB-RP-V06                        AKRITY (Est-2008)   \n",
       "\n",
       "                                               EMAIL  \\\n",
       "0                                   mail@abashan.com   \n",
       "1   ads.architectstudio@gmail.com Contact: +88-02...   \n",
       "2                               akriti.si@gmail.com,   \n",
       "\n",
       "  NAME OF PROPRIETOR/ PARTNER/ DIRECTOR(s) & DESIGNATION:  \\\n",
       "0  Ar. Luva Nahid Chowdhury (C-018) Managing Dire...        \n",
       "1  Ar. Md. Sayedul Hasan (H-103) Principal Architect        \n",
       "2           Ar. Monir Hossain Khan (K-104) Architect        \n",
       "\n",
       "  FULL TIME TECHNICAL PERSONNEL OF THE FIRM/COMPANY:  \\\n",
       "0                                        3 2 Total 5   \n",
       "1                                        4 1 Total 5   \n",
       "2                                        1 7 Total 8   \n",
       "\n",
       "                                      OFFICE ADDRESS  Rating  \\\n",
       "0   Bengal Centre, Plot 2, Civil Aviation, New Ai...     4.7   \n",
       "1   House#29-31, Road#18, Sector#7, Uttara , Dhak...     4.4   \n",
       "2          House-10/GA (GF), Road-2, Shyamoli, Dhaka     4.7   \n",
       "\n",
       "             WEBSITE  \n",
       "0   www.4wallsbd.com  \n",
       "1   www.vitti.com.bd  \n",
       "2                NaN  "
      ]
     },
     "execution_count": 5,
     "metadata": {},
     "output_type": "execute_result"
    }
   ],
   "source": [
    "file_path = \"F:\\Python dummy cleaning data.csv\"\n",
    "encodings = [\"utf-8\", \"ISO-8859-1\", \"latin1\", \"utf-16\"]\n",
    "for encoding in encodings:\n",
    "    try:\n",
    "        df = pd.read_csv(file_path, encoding=encoding)\n",
    "        print(f\"File successfully Encoded:{encodings}\")\n",
    "        break\n",
    "    except UnicodeDecodeError:\n",
    "        print(f\"File failed to read: {encodings}\")\n",
    "df.head(3)"
   ]
  },
  {
   "cell_type": "markdown",
   "id": "1a268af3-9e64-4833-9110-bdaaa14473c0",
   "metadata": {},
   "source": [
    "# Check dataset"
   ]
  },
  {
   "cell_type": "code",
   "execution_count": 7,
   "id": "a158391c-a3f2-43e9-ade1-d952a685e36d",
   "metadata": {},
   "outputs": [
    {
     "data": {
      "text/plain": [
       "(143, 8)"
      ]
     },
     "execution_count": 7,
     "metadata": {},
     "output_type": "execute_result"
    }
   ],
   "source": [
    "df.shape"
   ]
  },
  {
   "cell_type": "code",
   "execution_count": 9,
   "id": "65529bf4-0443-48f9-b122-933e6bc76fc3",
   "metadata": {},
   "outputs": [
    {
     "data": {
      "text/plain": [
       "1144"
      ]
     },
     "execution_count": 9,
     "metadata": {},
     "output_type": "execute_result"
    }
   ],
   "source": [
    "df.size"
   ]
  },
  {
   "cell_type": "code",
   "execution_count": 11,
   "id": "fb9eb7e0-4bff-4361-8373-222f31dc95b6",
   "metadata": {},
   "outputs": [
    {
     "data": {
      "text/plain": [
       "Index(['IAB ID', 'COMPANY NAME', 'EMAIL',\n",
       "       'NAME OF PROPRIETOR/ PARTNER/ DIRECTOR(s) & DESIGNATION:',\n",
       "       'FULL TIME TECHNICAL PERSONNEL OF THE FIRM/COMPANY:', 'OFFICE ADDRESS',\n",
       "       'Rating', 'WEBSITE'],\n",
       "      dtype='object')"
      ]
     },
     "execution_count": 11,
     "metadata": {},
     "output_type": "execute_result"
    }
   ],
   "source": [
    "df.columns"
   ]
  },
  {
   "cell_type": "code",
   "execution_count": 13,
   "id": "1ba701d1-dcba-474f-9843-f8987b0fbe11",
   "metadata": {},
   "outputs": [
    {
     "data": {
      "text/plain": [
       "IAB ID                                                      object\n",
       "COMPANY NAME                                                object\n",
       "EMAIL                                                       object\n",
       "NAME OF PROPRIETOR/ PARTNER/ DIRECTOR(s) & DESIGNATION:     object\n",
       "FULL TIME TECHNICAL PERSONNEL OF THE FIRM/COMPANY:          object\n",
       "OFFICE ADDRESS                                              object\n",
       "Rating                                                     float64\n",
       "WEBSITE                                                     object\n",
       "dtype: object"
      ]
     },
     "execution_count": 13,
     "metadata": {},
     "output_type": "execute_result"
    }
   ],
   "source": [
    "df.dtypes"
   ]
  },
  {
   "cell_type": "code",
   "execution_count": 15,
   "id": "345fa705-4250-4af5-95bf-f9171f397c27",
   "metadata": {},
   "outputs": [
    {
     "data": {
      "text/plain": [
       "IAB ID                                                     True\n",
       "COMPANY NAME                                               True\n",
       "EMAIL                                                      True\n",
       "NAME OF PROPRIETOR/ PARTNER/ DIRECTOR(s) & DESIGNATION:    True\n",
       "FULL TIME TECHNICAL PERSONNEL OF THE FIRM/COMPANY:         True\n",
       "OFFICE ADDRESS                                             True\n",
       "Rating                                                     True\n",
       "WEBSITE                                                    True\n",
       "dtype: bool"
      ]
     },
     "execution_count": 15,
     "metadata": {},
     "output_type": "execute_result"
    }
   ],
   "source": [
    "df.isnull().any()"
   ]
  },
  {
   "cell_type": "markdown",
   "id": "643ab9d3-6b3d-41ab-aa76-36de0b0bcfc9",
   "metadata": {},
   "source": [
    "# Check Duplicates"
   ]
  },
  {
   "cell_type": "code",
   "execution_count": 17,
   "id": "c11abd80-4a31-4bcd-b205-3dfd44c5ba47",
   "metadata": {},
   "outputs": [
    {
     "name": "stdout",
     "output_type": "stream",
     "text": [
      "No Duplicates\n"
     ]
    }
   ],
   "source": [
    "df.duplicated()\n",
    "if df.duplicated().any():\n",
    "    print(\"There are Duplicates\")\n",
    "else:\n",
    "    print(\"No Duplicates\")"
   ]
  },
  {
   "cell_type": "markdown",
   "id": "78c9883f-5e91-437b-a472-2c431da7a151",
   "metadata": {},
   "source": [
    "# Check \"IAB ID\" Duplicates "
   ]
  },
  {
   "cell_type": "code",
   "execution_count": 19,
   "id": "1b9ff8ef-360b-4bc7-bdd7-35f445152147",
   "metadata": {},
   "outputs": [
    {
     "name": "stdout",
     "output_type": "stream",
     "text": [
      "There are Duplicates\n"
     ]
    }
   ],
   "source": [
    "df[\"IAB ID\"].duplicated()\n",
    "if df[\"IAB ID\"].duplicated().any():\n",
    "    print(\"There are Duplicates\")\n",
    "else:\n",
    "    print(\"NO duplicates\")"
   ]
  },
  {
   "cell_type": "code",
   "execution_count": 21,
   "id": "8a0e10b3-4aa8-4529-9579-b634fd504928",
   "metadata": {},
   "outputs": [
    {
     "data": {
      "text/html": [
       "<div>\n",
       "<style scoped>\n",
       "    .dataframe tbody tr th:only-of-type {\n",
       "        vertical-align: middle;\n",
       "    }\n",
       "\n",
       "    .dataframe tbody tr th {\n",
       "        vertical-align: top;\n",
       "    }\n",
       "\n",
       "    .dataframe thead th {\n",
       "        text-align: right;\n",
       "    }\n",
       "</style>\n",
       "<table border=\"1\" class=\"dataframe\">\n",
       "  <thead>\n",
       "    <tr style=\"text-align: right;\">\n",
       "      <th></th>\n",
       "      <th>IAB ID</th>\n",
       "      <th>COMPANY NAME</th>\n",
       "      <th>EMAIL</th>\n",
       "      <th>NAME OF PROPRIETOR/ PARTNER/ DIRECTOR(s) &amp; DESIGNATION:</th>\n",
       "      <th>FULL TIME TECHNICAL PERSONNEL OF THE FIRM/COMPANY:</th>\n",
       "      <th>OFFICE ADDRESS</th>\n",
       "      <th>Rating</th>\n",
       "      <th>WEBSITE</th>\n",
       "    </tr>\n",
       "  </thead>\n",
       "  <tbody>\n",
       "    <tr>\n",
       "      <th>10</th>\n",
       "      <td>IAB-RP-U01</td>\n",
       "      <td>ARCHITECT HASAN &amp; ASSOCIATES LTD. (Est-02/04/1...</td>\n",
       "      <td>archiworks.bd@hotmail.com</td>\n",
       "      <td>Ar. Mohammad Arefeen Ibrahim (I-047) Proprietor</td>\n",
       "      <td>4 2 Total 6</td>\n",
       "      <td>House-48, Road-02, Block-B, Niketan, Gulshan ...</td>\n",
       "      <td>4.8</td>\n",
       "      <td>www.triotect.com.bd</td>\n",
       "    </tr>\n",
       "  </tbody>\n",
       "</table>\n",
       "</div>"
      ],
      "text/plain": [
       "        IAB ID                                       COMPANY NAME  \\\n",
       "10  IAB-RP-U01  ARCHITECT HASAN & ASSOCIATES LTD. (Est-02/04/1...   \n",
       "\n",
       "                         EMAIL  \\\n",
       "10   archiworks.bd@hotmail.com   \n",
       "\n",
       "   NAME OF PROPRIETOR/ PARTNER/ DIRECTOR(s) & DESIGNATION:  \\\n",
       "10    Ar. Mohammad Arefeen Ibrahim (I-047) Proprietor        \n",
       "\n",
       "   FULL TIME TECHNICAL PERSONNEL OF THE FIRM/COMPANY:  \\\n",
       "10                                        4 2 Total 6   \n",
       "\n",
       "                                       OFFICE ADDRESS  Rating  \\\n",
       "10   House-48, Road-02, Block-B, Niketan, Gulshan ...     4.8   \n",
       "\n",
       "                 WEBSITE  \n",
       "10   www.triotect.com.bd  "
      ]
     },
     "execution_count": 21,
     "metadata": {},
     "output_type": "execute_result"
    }
   ],
   "source": [
    "df[df[\"IAB ID\"].duplicated()==1]"
   ]
  },
  {
   "cell_type": "code",
   "execution_count": 23,
   "id": "921fb255-0a1f-4319-b681-a66449179d86",
   "metadata": {},
   "outputs": [
    {
     "data": {
      "text/html": [
       "<div>\n",
       "<style scoped>\n",
       "    .dataframe tbody tr th:only-of-type {\n",
       "        vertical-align: middle;\n",
       "    }\n",
       "\n",
       "    .dataframe tbody tr th {\n",
       "        vertical-align: top;\n",
       "    }\n",
       "\n",
       "    .dataframe thead th {\n",
       "        text-align: right;\n",
       "    }\n",
       "</style>\n",
       "<table border=\"1\" class=\"dataframe\">\n",
       "  <thead>\n",
       "    <tr style=\"text-align: right;\">\n",
       "      <th></th>\n",
       "      <th>IAB ID</th>\n",
       "      <th>COMPANY NAME</th>\n",
       "      <th>EMAIL</th>\n",
       "      <th>NAME OF PROPRIETOR/ PARTNER/ DIRECTOR(s) &amp; DESIGNATION:</th>\n",
       "      <th>FULL TIME TECHNICAL PERSONNEL OF THE FIRM/COMPANY:</th>\n",
       "      <th>OFFICE ADDRESS</th>\n",
       "      <th>Rating</th>\n",
       "      <th>WEBSITE</th>\n",
       "    </tr>\n",
       "  </thead>\n",
       "  <tbody>\n",
       "    <tr>\n",
       "      <th>9</th>\n",
       "      <td>IAB-RP-U01</td>\n",
       "      <td>ARCHITECT HASAN &amp; ASSOCIATES LTD. (Est-02/04/1...</td>\n",
       "      <td>sazal953@gmail.com Contact: 044-78004350, 044...</td>\n",
       "      <td>Ar. S.M. Helaluddin Ahmed (A-101) Proprietor</td>\n",
       "      <td>3 1 Total 4</td>\n",
       "      <td>House-2/8, Block-E, Lalmatia, Dhaka</td>\n",
       "      <td>4.3</td>\n",
       "      <td>NaN</td>\n",
       "    </tr>\n",
       "    <tr>\n",
       "      <th>10</th>\n",
       "      <td>IAB-RP-U01</td>\n",
       "      <td>ARCHITECT HASAN &amp; ASSOCIATES LTD. (Est-02/04/1...</td>\n",
       "      <td>archiworks.bd@hotmail.com</td>\n",
       "      <td>Ar. Mohammad Arefeen Ibrahim (I-047) Proprietor</td>\n",
       "      <td>4 2 Total 6</td>\n",
       "      <td>House-48, Road-02, Block-B, Niketan, Gulshan ...</td>\n",
       "      <td>4.8</td>\n",
       "      <td>www.triotect.com.bd</td>\n",
       "    </tr>\n",
       "  </tbody>\n",
       "</table>\n",
       "</div>"
      ],
      "text/plain": [
       "        IAB ID                                       COMPANY NAME  \\\n",
       "9   IAB-RP-U01  ARCHITECT HASAN & ASSOCIATES LTD. (Est-02/04/1...   \n",
       "10  IAB-RP-U01  ARCHITECT HASAN & ASSOCIATES LTD. (Est-02/04/1...   \n",
       "\n",
       "                                                EMAIL  \\\n",
       "9    sazal953@gmail.com Contact: 044-78004350, 044...   \n",
       "10                          archiworks.bd@hotmail.com   \n",
       "\n",
       "   NAME OF PROPRIETOR/ PARTNER/ DIRECTOR(s) & DESIGNATION:  \\\n",
       "9        Ar. S.M. Helaluddin Ahmed (A-101) Proprietor        \n",
       "10    Ar. Mohammad Arefeen Ibrahim (I-047) Proprietor        \n",
       "\n",
       "   FULL TIME TECHNICAL PERSONNEL OF THE FIRM/COMPANY:  \\\n",
       "9                                         3 1 Total 4   \n",
       "10                                        4 2 Total 6   \n",
       "\n",
       "                                       OFFICE ADDRESS  Rating  \\\n",
       "9                 House-2/8, Block-E, Lalmatia, Dhaka     4.3   \n",
       "10   House-48, Road-02, Block-B, Niketan, Gulshan ...     4.8   \n",
       "\n",
       "                 WEBSITE  \n",
       "9                    NaN  \n",
       "10   www.triotect.com.bd  "
      ]
     },
     "execution_count": 23,
     "metadata": {},
     "output_type": "execute_result"
    }
   ],
   "source": [
    "df[df[\"IAB ID\"].isin([\"IAB-RP-U01\"])]"
   ]
  },
  {
   "cell_type": "markdown",
   "id": "557fa841-8ef8-4d0f-96a7-7edfaecddea8",
   "metadata": {},
   "source": [
    "# Check \"Company name\" Duplicates"
   ]
  },
  {
   "cell_type": "code",
   "execution_count": 25,
   "id": "8b57fc28-eb56-403f-9ad0-008f65e3f087",
   "metadata": {},
   "outputs": [
    {
     "name": "stdout",
     "output_type": "stream",
     "text": [
      "There are Duplicates\n"
     ]
    }
   ],
   "source": [
    "df[\"COMPANY NAME\"].duplicated()\n",
    "if df[\"COMPANY NAME\"].duplicated().any():\n",
    "    print(\"There are Duplicates\")\n",
    "else:\n",
    "    print(\"NO duplicates\")"
   ]
  },
  {
   "cell_type": "code",
   "execution_count": 27,
   "id": "43108f8f-5f3b-4856-bd1b-0e2eceba0c45",
   "metadata": {},
   "outputs": [
    {
     "data": {
      "text/html": [
       "<div>\n",
       "<style scoped>\n",
       "    .dataframe tbody tr th:only-of-type {\n",
       "        vertical-align: middle;\n",
       "    }\n",
       "\n",
       "    .dataframe tbody tr th {\n",
       "        vertical-align: top;\n",
       "    }\n",
       "\n",
       "    .dataframe thead th {\n",
       "        text-align: right;\n",
       "    }\n",
       "</style>\n",
       "<table border=\"1\" class=\"dataframe\">\n",
       "  <thead>\n",
       "    <tr style=\"text-align: right;\">\n",
       "      <th></th>\n",
       "      <th>IAB ID</th>\n",
       "      <th>COMPANY NAME</th>\n",
       "      <th>EMAIL</th>\n",
       "      <th>NAME OF PROPRIETOR/ PARTNER/ DIRECTOR(s) &amp; DESIGNATION:</th>\n",
       "      <th>FULL TIME TECHNICAL PERSONNEL OF THE FIRM/COMPANY:</th>\n",
       "      <th>OFFICE ADDRESS</th>\n",
       "      <th>Rating</th>\n",
       "      <th>WEBSITE</th>\n",
       "    </tr>\n",
       "  </thead>\n",
       "  <tbody>\n",
       "    <tr>\n",
       "      <th>10</th>\n",
       "      <td>IAB-RP-U01</td>\n",
       "      <td>ARCHITECT HASAN &amp; ASSOCIATES LTD. (Est-02/04/1...</td>\n",
       "      <td>archiworks.bd@hotmail.com</td>\n",
       "      <td>Ar. Mohammad Arefeen Ibrahim (I-047) Proprietor</td>\n",
       "      <td>4 2 Total 6</td>\n",
       "      <td>House-48, Road-02, Block-B, Niketan, Gulshan ...</td>\n",
       "      <td>4.8</td>\n",
       "      <td>www.triotect.com.bd</td>\n",
       "    </tr>\n",
       "    <tr>\n",
       "      <th>28</th>\n",
       "      <td>IAB-RP-S09</td>\n",
       "      <td>AYOTEEK (Est-2016)</td>\n",
       "      <td>helal201@hotmail.com, arescon1984@gmail.com C...</td>\n",
       "      <td>Ar. Md. Helal Uddin (U-006) Principal Architect</td>\n",
       "      <td>2 1 Total 3</td>\n",
       "      <td>137, Jahanara Garden, Green Road, 5th Floor, ...</td>\n",
       "      <td>3.0</td>\n",
       "      <td>www.studioecotecture.com</td>\n",
       "    </tr>\n",
       "    <tr>\n",
       "      <th>30</th>\n",
       "      <td>IAB-RP-S07</td>\n",
       "      <td>ARESCON CONSULTANT (Est-2004)</td>\n",
       "      <td>assoconbangla@yahoo.com Contact: +88-02-90046...</td>\n",
       "      <td>Ar. Mubasshar Hussain (H-013) Managing Director</td>\n",
       "      <td>2 Total 2</td>\n",
       "      <td>849/3, Begum Rokeya Sharani, 2nd Floor, Shewr...</td>\n",
       "      <td>NaN</td>\n",
       "      <td>NaN</td>\n",
       "    </tr>\n",
       "    <tr>\n",
       "      <th>35</th>\n",
       "      <td>IAB-RP-S03 A</td>\n",
       "      <td>ARCHIWORKS CONSULTANTS (Est-2009)</td>\n",
       "      <td>emun97@gmail.com Contact: +88 01711829295</td>\n",
       "      <td>Ar. Nahas Ahmed Khalil (K-022) Partner &amp; Ar. M...</td>\n",
       "      <td>04 Total 04</td>\n",
       "      <td>House-60/A, Road-7/A, Dhanmondi, Dhaka-1216</td>\n",
       "      <td>NaN</td>\n",
       "      <td>NaN</td>\n",
       "    </tr>\n",
       "    <tr>\n",
       "      <th>72</th>\n",
       "      <td>IAB-RP-H01</td>\n",
       "      <td>H I ARCHITECTS (Est?2019)</td>\n",
       "      <td>ingrid_dhaka@yahoo.com Contact: +88?02?9880507</td>\n",
       "      <td>Ar. Anwarul Islam Khan (K?083) Partner &amp; A.K.M...</td>\n",
       "      <td>3 7 Total 10</td>\n",
       "      <td>House#394(3rd floor), Road#29, DOHS Mohakhali...</td>\n",
       "      <td>NaN</td>\n",
       "      <td>NaN</td>\n",
       "    </tr>\n",
       "  </tbody>\n",
       "</table>\n",
       "</div>"
      ],
      "text/plain": [
       "          IAB ID                                       COMPANY NAME  \\\n",
       "10    IAB-RP-U01  ARCHITECT HASAN & ASSOCIATES LTD. (Est-02/04/1...   \n",
       "28    IAB-RP-S09                                 AYOTEEK (Est-2016)   \n",
       "30    IAB-RP-S07                      ARESCON CONSULTANT (Est-2004)   \n",
       "35  IAB-RP-S03 A                  ARCHIWORKS CONSULTANTS (Est-2009)   \n",
       "72    IAB-RP-H01                          H I ARCHITECTS (Est?2019)   \n",
       "\n",
       "                                                EMAIL  \\\n",
       "10                          archiworks.bd@hotmail.com   \n",
       "28   helal201@hotmail.com, arescon1984@gmail.com C...   \n",
       "30   assoconbangla@yahoo.com Contact: +88-02-90046...   \n",
       "35          emun97@gmail.com Contact: +88 01711829295   \n",
       "72     ingrid_dhaka@yahoo.com Contact: +88?02?9880507   \n",
       "\n",
       "   NAME OF PROPRIETOR/ PARTNER/ DIRECTOR(s) & DESIGNATION:  \\\n",
       "10    Ar. Mohammad Arefeen Ibrahim (I-047) Proprietor        \n",
       "28    Ar. Md. Helal Uddin (U-006) Principal Architect        \n",
       "30    Ar. Mubasshar Hussain (H-013) Managing Director        \n",
       "35  Ar. Nahas Ahmed Khalil (K-022) Partner & Ar. M...        \n",
       "72  Ar. Anwarul Islam Khan (K?083) Partner & A.K.M...        \n",
       "\n",
       "   FULL TIME TECHNICAL PERSONNEL OF THE FIRM/COMPANY:  \\\n",
       "10                                        4 2 Total 6   \n",
       "28                                        2 1 Total 3   \n",
       "30                                          2 Total 2   \n",
       "35                                        04 Total 04   \n",
       "72                                       3 7 Total 10   \n",
       "\n",
       "                                       OFFICE ADDRESS  Rating  \\\n",
       "10   House-48, Road-02, Block-B, Niketan, Gulshan ...     4.8   \n",
       "28   137, Jahanara Garden, Green Road, 5th Floor, ...     3.0   \n",
       "30   849/3, Begum Rokeya Sharani, 2nd Floor, Shewr...     NaN   \n",
       "35        House-60/A, Road-7/A, Dhanmondi, Dhaka-1216     NaN   \n",
       "72   House#394(3rd floor), Road#29, DOHS Mohakhali...     NaN   \n",
       "\n",
       "                       WEBSITE  \n",
       "10         www.triotect.com.bd  \n",
       "28   www.studioecotecture.com   \n",
       "30                         NaN  \n",
       "35                         NaN  \n",
       "72                         NaN  "
      ]
     },
     "execution_count": 27,
     "metadata": {},
     "output_type": "execute_result"
    }
   ],
   "source": [
    "df[df[\"COMPANY NAME\"].duplicated()==1]"
   ]
  },
  {
   "cell_type": "code",
   "execution_count": 29,
   "id": "81027486-c08e-4cbf-8e1d-25c367372274",
   "metadata": {},
   "outputs": [
    {
     "data": {
      "text/html": [
       "<div>\n",
       "<style scoped>\n",
       "    .dataframe tbody tr th:only-of-type {\n",
       "        vertical-align: middle;\n",
       "    }\n",
       "\n",
       "    .dataframe tbody tr th {\n",
       "        vertical-align: top;\n",
       "    }\n",
       "\n",
       "    .dataframe thead th {\n",
       "        text-align: right;\n",
       "    }\n",
       "</style>\n",
       "<table border=\"1\" class=\"dataframe\">\n",
       "  <thead>\n",
       "    <tr style=\"text-align: right;\">\n",
       "      <th></th>\n",
       "      <th>IAB ID</th>\n",
       "      <th>COMPANY NAME</th>\n",
       "      <th>EMAIL</th>\n",
       "      <th>NAME OF PROPRIETOR/ PARTNER/ DIRECTOR(s) &amp; DESIGNATION:</th>\n",
       "      <th>FULL TIME TECHNICAL PERSONNEL OF THE FIRM/COMPANY:</th>\n",
       "      <th>OFFICE ADDRESS</th>\n",
       "      <th>Rating</th>\n",
       "      <th>WEBSITE</th>\n",
       "    </tr>\n",
       "  </thead>\n",
       "  <tbody>\n",
       "    <tr>\n",
       "      <th>4</th>\n",
       "      <td>IAB-RP-V04</td>\n",
       "      <td>AYOTEEK (Est-2016)</td>\n",
       "      <td>arc.architect@gmail.com, nahaskhalil@yahoo.com</td>\n",
       "      <td>Ar. Nahas Ahmed khalil (K-022) Principal Archi...</td>\n",
       "      <td>5 3 Total 8</td>\n",
       "      <td>60A, Road 7A, Dhanmondi, Dhaka-1209</td>\n",
       "      <td>4.6</td>\n",
       "      <td>www.volumezeroltd.com</td>\n",
       "    </tr>\n",
       "    <tr>\n",
       "      <th>9</th>\n",
       "      <td>IAB-RP-U01</td>\n",
       "      <td>ARCHITECT HASAN &amp; ASSOCIATES LTD. (Est-02/04/1...</td>\n",
       "      <td>sazal953@gmail.com Contact: 044-78004350, 044...</td>\n",
       "      <td>Ar. S.M. Helaluddin Ahmed (A-101) Proprietor</td>\n",
       "      <td>3 1 Total 4</td>\n",
       "      <td>House-2/8, Block-E, Lalmatia, Dhaka</td>\n",
       "      <td>4.3</td>\n",
       "      <td>NaN</td>\n",
       "    </tr>\n",
       "    <tr>\n",
       "      <th>10</th>\n",
       "      <td>IAB-RP-U01</td>\n",
       "      <td>ARCHITECT HASAN &amp; ASSOCIATES LTD. (Est-02/04/1...</td>\n",
       "      <td>archiworks.bd@hotmail.com</td>\n",
       "      <td>Ar. Mohammad Arefeen Ibrahim (I-047) Proprietor</td>\n",
       "      <td>4 2 Total 6</td>\n",
       "      <td>House-48, Road-02, Block-B, Niketan, Gulshan ...</td>\n",
       "      <td>4.8</td>\n",
       "      <td>www.triotect.com.bd</td>\n",
       "    </tr>\n",
       "    <tr>\n",
       "      <th>12</th>\n",
       "      <td>IAB-RP-T03</td>\n",
       "      <td>ARCHIWORKS CONSULTANTS (Est-2009)</td>\n",
       "      <td>arescon@gmail.com Contact: +88-02-8151121</td>\n",
       "      <td>Ar. Md. Helal Uddin (U-006) CEO/Proprietor</td>\n",
       "      <td>1 4 Total 5</td>\n",
       "      <td>137-Jahanara Garden, 5th Floor, E-4, Green Ro...</td>\n",
       "      <td>4.5</td>\n",
       "      <td>www.tknrk.com</td>\n",
       "    </tr>\n",
       "    <tr>\n",
       "      <th>14</th>\n",
       "      <td>IAB-RP-T01</td>\n",
       "      <td>ARESCON CONSULTANT (Est-2004)</td>\n",
       "      <td>artyspace.designstudio@gmail.com Contact: +88...</td>\n",
       "      <td>Ar. Ananya Bikash Barua (B-040) Chief Architect</td>\n",
       "      <td>1 4 Total 5</td>\n",
       "      <td>Azad Bhaban (7th Floor), 79/A, Jamal Khan Roa...</td>\n",
       "      <td>NaN</td>\n",
       "      <td>NaN</td>\n",
       "    </tr>\n",
       "    <tr>\n",
       "      <th>28</th>\n",
       "      <td>IAB-RP-S09</td>\n",
       "      <td>AYOTEEK (Est-2016)</td>\n",
       "      <td>helal201@hotmail.com, arescon1984@gmail.com C...</td>\n",
       "      <td>Ar. Md. Helal Uddin (U-006) Principal Architect</td>\n",
       "      <td>2 1 Total 3</td>\n",
       "      <td>137, Jahanara Garden, Green Road, 5th Floor, ...</td>\n",
       "      <td>3.0</td>\n",
       "      <td>www.studioecotecture.com</td>\n",
       "    </tr>\n",
       "    <tr>\n",
       "      <th>30</th>\n",
       "      <td>IAB-RP-S07</td>\n",
       "      <td>ARESCON CONSULTANT (Est-2004)</td>\n",
       "      <td>assoconbangla@yahoo.com Contact: +88-02-90046...</td>\n",
       "      <td>Ar. Mubasshar Hussain (H-013) Managing Director</td>\n",
       "      <td>2 Total 2</td>\n",
       "      <td>849/3, Begum Rokeya Sharani, 2nd Floor, Shewr...</td>\n",
       "      <td>NaN</td>\n",
       "      <td>NaN</td>\n",
       "    </tr>\n",
       "    <tr>\n",
       "      <th>35</th>\n",
       "      <td>IAB-RP-S03 A</td>\n",
       "      <td>ARCHIWORKS CONSULTANTS (Est-2009)</td>\n",
       "      <td>emun97@gmail.com Contact: +88 01711829295</td>\n",
       "      <td>Ar. Nahas Ahmed Khalil (K-022) Partner &amp; Ar. M...</td>\n",
       "      <td>04 Total 04</td>\n",
       "      <td>House-60/A, Road-7/A, Dhanmondi, Dhaka-1216</td>\n",
       "      <td>NaN</td>\n",
       "      <td>NaN</td>\n",
       "    </tr>\n",
       "    <tr>\n",
       "      <th>62</th>\n",
       "      <td>IAB-RP-J02</td>\n",
       "      <td>H I ARCHITECTS (Est?2019)</td>\n",
       "      <td>qazimarif2012@gmail.com, principal@envision?a...</td>\n",
       "      <td>Ar. Qazi Muhammad Arif (A?059) Principal Archi...</td>\n",
       "      <td>3 1 Total 4</td>\n",
       "      <td>6/2, Block?B, 1st Floor, Lalmatia, Dhaka?1207</td>\n",
       "      <td>NaN</td>\n",
       "      <td>NaN</td>\n",
       "    </tr>\n",
       "    <tr>\n",
       "      <th>72</th>\n",
       "      <td>IAB-RP-H01</td>\n",
       "      <td>H I ARCHITECTS (Est?2019)</td>\n",
       "      <td>ingrid_dhaka@yahoo.com Contact: +88?02?9880507</td>\n",
       "      <td>Ar. Anwarul Islam Khan (K?083) Partner &amp; A.K.M...</td>\n",
       "      <td>3 7 Total 10</td>\n",
       "      <td>House#394(3rd floor), Road#29, DOHS Mohakhali...</td>\n",
       "      <td>NaN</td>\n",
       "      <td>NaN</td>\n",
       "    </tr>\n",
       "  </tbody>\n",
       "</table>\n",
       "</div>"
      ],
      "text/plain": [
       "          IAB ID                                       COMPANY NAME  \\\n",
       "4     IAB-RP-V04                                 AYOTEEK (Est-2016)   \n",
       "9     IAB-RP-U01  ARCHITECT HASAN & ASSOCIATES LTD. (Est-02/04/1...   \n",
       "10    IAB-RP-U01  ARCHITECT HASAN & ASSOCIATES LTD. (Est-02/04/1...   \n",
       "12    IAB-RP-T03                  ARCHIWORKS CONSULTANTS (Est-2009)   \n",
       "14    IAB-RP-T01                      ARESCON CONSULTANT (Est-2004)   \n",
       "28    IAB-RP-S09                                 AYOTEEK (Est-2016)   \n",
       "30    IAB-RP-S07                      ARESCON CONSULTANT (Est-2004)   \n",
       "35  IAB-RP-S03 A                  ARCHIWORKS CONSULTANTS (Est-2009)   \n",
       "62    IAB-RP-J02                          H I ARCHITECTS (Est?2019)   \n",
       "72    IAB-RP-H01                          H I ARCHITECTS (Est?2019)   \n",
       "\n",
       "                                                EMAIL  \\\n",
       "4      arc.architect@gmail.com, nahaskhalil@yahoo.com   \n",
       "9    sazal953@gmail.com Contact: 044-78004350, 044...   \n",
       "10                          archiworks.bd@hotmail.com   \n",
       "12          arescon@gmail.com Contact: +88-02-8151121   \n",
       "14   artyspace.designstudio@gmail.com Contact: +88...   \n",
       "28   helal201@hotmail.com, arescon1984@gmail.com C...   \n",
       "30   assoconbangla@yahoo.com Contact: +88-02-90046...   \n",
       "35          emun97@gmail.com Contact: +88 01711829295   \n",
       "62   qazimarif2012@gmail.com, principal@envision?a...   \n",
       "72     ingrid_dhaka@yahoo.com Contact: +88?02?9880507   \n",
       "\n",
       "   NAME OF PROPRIETOR/ PARTNER/ DIRECTOR(s) & DESIGNATION:  \\\n",
       "4   Ar. Nahas Ahmed khalil (K-022) Principal Archi...        \n",
       "9        Ar. S.M. Helaluddin Ahmed (A-101) Proprietor        \n",
       "10    Ar. Mohammad Arefeen Ibrahim (I-047) Proprietor        \n",
       "12         Ar. Md. Helal Uddin (U-006) CEO/Proprietor        \n",
       "14    Ar. Ananya Bikash Barua (B-040) Chief Architect        \n",
       "28    Ar. Md. Helal Uddin (U-006) Principal Architect        \n",
       "30    Ar. Mubasshar Hussain (H-013) Managing Director        \n",
       "35  Ar. Nahas Ahmed Khalil (K-022) Partner & Ar. M...        \n",
       "62  Ar. Qazi Muhammad Arif (A?059) Principal Archi...        \n",
       "72  Ar. Anwarul Islam Khan (K?083) Partner & A.K.M...        \n",
       "\n",
       "   FULL TIME TECHNICAL PERSONNEL OF THE FIRM/COMPANY:  \\\n",
       "4                                         5 3 Total 8   \n",
       "9                                         3 1 Total 4   \n",
       "10                                        4 2 Total 6   \n",
       "12                                        1 4 Total 5   \n",
       "14                                        1 4 Total 5   \n",
       "28                                        2 1 Total 3   \n",
       "30                                          2 Total 2   \n",
       "35                                        04 Total 04   \n",
       "62                                        3 1 Total 4   \n",
       "72                                       3 7 Total 10   \n",
       "\n",
       "                                       OFFICE ADDRESS  Rating  \\\n",
       "4                 60A, Road 7A, Dhanmondi, Dhaka-1209     4.6   \n",
       "9                 House-2/8, Block-E, Lalmatia, Dhaka     4.3   \n",
       "10   House-48, Road-02, Block-B, Niketan, Gulshan ...     4.8   \n",
       "12   137-Jahanara Garden, 5th Floor, E-4, Green Ro...     4.5   \n",
       "14   Azad Bhaban (7th Floor), 79/A, Jamal Khan Roa...     NaN   \n",
       "28   137, Jahanara Garden, Green Road, 5th Floor, ...     3.0   \n",
       "30   849/3, Begum Rokeya Sharani, 2nd Floor, Shewr...     NaN   \n",
       "35        House-60/A, Road-7/A, Dhanmondi, Dhaka-1216     NaN   \n",
       "62      6/2, Block?B, 1st Floor, Lalmatia, Dhaka?1207     NaN   \n",
       "72   House#394(3rd floor), Road#29, DOHS Mohakhali...     NaN   \n",
       "\n",
       "                       WEBSITE  \n",
       "4       www.volumezeroltd.com   \n",
       "9                          NaN  \n",
       "10         www.triotect.com.bd  \n",
       "12              www.tknrk.com   \n",
       "14                         NaN  \n",
       "28   www.studioecotecture.com   \n",
       "30                         NaN  \n",
       "35                         NaN  \n",
       "62                         NaN  \n",
       "72                         NaN  "
      ]
     },
     "execution_count": 29,
     "metadata": {},
     "output_type": "execute_result"
    }
   ],
   "source": [
    "df[df[\"COMPANY NAME\"].isin([\"AYOTEEK (Est-2016)\", \"ARESCON CONSULTANT (Est-2004)\", \"ARCHIWORKS CONSULTANTS (Est-2009)\", \"H I ARCHITECTS (Est?2019)\",\"ARCHITECT HASAN & ASSOCIATES LTD. (Est-02/04/1998)\"])]"
   ]
  },
  {
   "cell_type": "markdown",
   "id": "381fc14e-a4c0-46f7-bb5e-d5abfe2d9c0c",
   "metadata": {},
   "source": [
    "# Check \"Office Address\" duplicates"
   ]
  },
  {
   "cell_type": "code",
   "execution_count": 31,
   "id": "386552c7-6a61-4117-9e36-e51c0a84cfde",
   "metadata": {},
   "outputs": [
    {
     "name": "stdout",
     "output_type": "stream",
     "text": [
      "There are Duplicates\n"
     ]
    }
   ],
   "source": [
    "df[\"OFFICE ADDRESS\"].duplicated()\n",
    "if df[\"OFFICE ADDRESS\"].duplicated().any():\n",
    "    print(\"There are Duplicates\")\n",
    "else:\n",
    "    print(\"NO duplicates\")"
   ]
  },
  {
   "cell_type": "code",
   "execution_count": 33,
   "id": "bc147e00-6cec-4027-b9b6-f481b6030c00",
   "metadata": {},
   "outputs": [
    {
     "data": {
      "text/html": [
       "<div>\n",
       "<style scoped>\n",
       "    .dataframe tbody tr th:only-of-type {\n",
       "        vertical-align: middle;\n",
       "    }\n",
       "\n",
       "    .dataframe tbody tr th {\n",
       "        vertical-align: top;\n",
       "    }\n",
       "\n",
       "    .dataframe thead th {\n",
       "        text-align: right;\n",
       "    }\n",
       "</style>\n",
       "<table border=\"1\" class=\"dataframe\">\n",
       "  <thead>\n",
       "    <tr style=\"text-align: right;\">\n",
       "      <th></th>\n",
       "      <th>IAB ID</th>\n",
       "      <th>COMPANY NAME</th>\n",
       "      <th>EMAIL</th>\n",
       "      <th>NAME OF PROPRIETOR/ PARTNER/ DIRECTOR(s) &amp; DESIGNATION:</th>\n",
       "      <th>FULL TIME TECHNICAL PERSONNEL OF THE FIRM/COMPANY:</th>\n",
       "      <th>OFFICE ADDRESS</th>\n",
       "      <th>Rating</th>\n",
       "      <th>WEBSITE</th>\n",
       "    </tr>\n",
       "  </thead>\n",
       "  <tbody>\n",
       "    <tr>\n",
       "      <th>25</th>\n",
       "      <td>IAB-RP-S12</td>\n",
       "      <td>ARCHYTAS LIMITED (Est-2014)</td>\n",
       "      <td>mail@arquitecturabd.com</td>\n",
       "      <td>Ar. Fariha Sharmeen Akbar (A-198) Chairman &amp; A...</td>\n",
       "      <td>6 2 Total 8</td>\n",
       "      <td>Lake Palisade, House 23, Level 02, Road 27, D...</td>\n",
       "      <td>NaN</td>\n",
       "      <td>NaN</td>\n",
       "    </tr>\n",
       "    <tr>\n",
       "      <th>35</th>\n",
       "      <td>IAB-RP-S03 A</td>\n",
       "      <td>ARCHIWORKS CONSULTANTS (Est-2009)</td>\n",
       "      <td>emun97@gmail.com Contact: +88 01711829295</td>\n",
       "      <td>Ar. Nahas Ahmed Khalil (K-022) Partner &amp; Ar. M...</td>\n",
       "      <td>04 Total 04</td>\n",
       "      <td>House-60/A, Road-7/A, Dhanmondi, Dhaka-1216</td>\n",
       "      <td>NaN</td>\n",
       "      <td>NaN</td>\n",
       "    </tr>\n",
       "  </tbody>\n",
       "</table>\n",
       "</div>"
      ],
      "text/plain": [
       "          IAB ID                       COMPANY NAME  \\\n",
       "25    IAB-RP-S12        ARCHYTAS LIMITED (Est-2014)   \n",
       "35  IAB-RP-S03 A  ARCHIWORKS CONSULTANTS (Est-2009)   \n",
       "\n",
       "                                         EMAIL  \\\n",
       "25                     mail@arquitecturabd.com   \n",
       "35   emun97@gmail.com Contact: +88 01711829295   \n",
       "\n",
       "   NAME OF PROPRIETOR/ PARTNER/ DIRECTOR(s) & DESIGNATION:  \\\n",
       "25  Ar. Fariha Sharmeen Akbar (A-198) Chairman & A...        \n",
       "35  Ar. Nahas Ahmed Khalil (K-022) Partner & Ar. M...        \n",
       "\n",
       "   FULL TIME TECHNICAL PERSONNEL OF THE FIRM/COMPANY:  \\\n",
       "25                                        6 2 Total 8   \n",
       "35                                        04 Total 04   \n",
       "\n",
       "                                       OFFICE ADDRESS  Rating WEBSITE  \n",
       "25   Lake Palisade, House 23, Level 02, Road 27, D...     NaN     NaN  \n",
       "35        House-60/A, Road-7/A, Dhanmondi, Dhaka-1216     NaN     NaN  "
      ]
     },
     "execution_count": 33,
     "metadata": {},
     "output_type": "execute_result"
    }
   ],
   "source": [
    "df[df[\"OFFICE ADDRESS\"].duplicated()==1]"
   ]
  },
  {
   "cell_type": "code",
   "execution_count": 35,
   "id": "6810962f-ffa5-4461-8053-1808fbe35cf2",
   "metadata": {},
   "outputs": [
    {
     "data": {
      "text/html": [
       "<div>\n",
       "<style scoped>\n",
       "    .dataframe tbody tr th:only-of-type {\n",
       "        vertical-align: middle;\n",
       "    }\n",
       "\n",
       "    .dataframe tbody tr th {\n",
       "        vertical-align: top;\n",
       "    }\n",
       "\n",
       "    .dataframe thead th {\n",
       "        text-align: right;\n",
       "    }\n",
       "</style>\n",
       "<table border=\"1\" class=\"dataframe\">\n",
       "  <thead>\n",
       "    <tr style=\"text-align: right;\">\n",
       "      <th></th>\n",
       "      <th>IAB ID</th>\n",
       "      <th>COMPANY NAME</th>\n",
       "      <th>EMAIL</th>\n",
       "      <th>NAME OF PROPRIETOR/ PARTNER/ DIRECTOR(s) &amp; DESIGNATION:</th>\n",
       "      <th>FULL TIME TECHNICAL PERSONNEL OF THE FIRM/COMPANY:</th>\n",
       "      <th>OFFICE ADDRESS</th>\n",
       "      <th>Rating</th>\n",
       "      <th>WEBSITE</th>\n",
       "    </tr>\n",
       "  </thead>\n",
       "  <tbody>\n",
       "  </tbody>\n",
       "</table>\n",
       "</div>"
      ],
      "text/plain": [
       "Empty DataFrame\n",
       "Columns: [IAB ID, COMPANY NAME, EMAIL, NAME OF PROPRIETOR/ PARTNER/ DIRECTOR(s) & DESIGNATION:, FULL TIME TECHNICAL PERSONNEL OF THE FIRM/COMPANY:, OFFICE ADDRESS, Rating, WEBSITE]\n",
       "Index: []"
      ]
     },
     "execution_count": 35,
     "metadata": {},
     "output_type": "execute_result"
    }
   ],
   "source": [
    "df[df[\"OFFICE ADDRESS\"].isin([\"Lake Palisade, House 23, Level 02, Road 27, Dhanmondi, Dhaka 1209\", \"House-60/A, Road-7/A, Dhanmondi, Dhaka-1216\"])]"
   ]
  },
  {
   "cell_type": "markdown",
   "id": "85482cd5-105a-4811-b576-f764a3f96acd",
   "metadata": {},
   "source": [
    "# Remove duplicates"
   ]
  },
  {
   "cell_type": "code",
   "execution_count": 37,
   "id": "bb3c864f-ea23-4810-84c6-d8a25ffb34fb",
   "metadata": {},
   "outputs": [],
   "source": [
    "# From \"IAB ID\" Columns\n",
    "df[\"IAB ID\"] = df[\"IAB ID\"].drop_duplicates()"
   ]
  },
  {
   "cell_type": "code",
   "execution_count": 39,
   "id": "8e2c6090-3174-48da-a914-332645745f4f",
   "metadata": {},
   "outputs": [],
   "source": [
    "# From \"COMPANY NAME\" columns\n",
    "df[\"COMPANY NAME\"] = df[\"COMPANY NAME\"].drop_duplicates().reset_index(drop=True)"
   ]
  },
  {
   "cell_type": "code",
   "execution_count": 41,
   "id": "47165d5e-c0af-462a-b9c0-151bfae79609",
   "metadata": {},
   "outputs": [],
   "source": [
    "# From \"OFFICE ADDRESS\" columns\n",
    "df[\"OFFICE ADDRESS\"] = df[\"OFFICE ADDRESS\"].drop_duplicates()"
   ]
  },
  {
   "cell_type": "markdown",
   "id": "e1909da1-6763-4c79-81f3-ae0f034afc79",
   "metadata": {},
   "source": [
    "# Seperate Company name and Extablish year by creating separate columns"
   ]
  },
  {
   "cell_type": "code",
   "execution_count": 43,
   "id": "e39e24ca-7acd-4a88-8267-72c3f9430e8f",
   "metadata": {},
   "outputs": [
    {
     "data": {
      "text/plain": [
       "Index(['IAB ID', 'COMPANY NAME', 'EMAIL',\n",
       "       'NAME OF PROPRIETOR/ PARTNER/ DIRECTOR(s) & DESIGNATION:',\n",
       "       'FULL TIME TECHNICAL PERSONNEL OF THE FIRM/COMPANY:', 'OFFICE ADDRESS',\n",
       "       'Rating', 'WEBSITE'],\n",
       "      dtype='object')"
      ]
     },
     "execution_count": 43,
     "metadata": {},
     "output_type": "execute_result"
    }
   ],
   "source": [
    "df.columns"
   ]
  },
  {
   "cell_type": "code",
   "execution_count": 45,
   "id": "5db6efb2-3684-4883-b9e3-44c70331302b",
   "metadata": {},
   "outputs": [
    {
     "data": {
      "text/plain": [
       "0         ABASHAN UPODESHTA LIMITED (Est-1996)\n",
       "1      ADS ARCHITECTS DESIGN STUDIO (Est-2005)\n",
       "2                            AKRITY (Est-2008)\n",
       "3          ANWAR & ASSOCIATES (Est-25/01/2006)\n",
       "4                           AYOTEEK (Est-2016)\n",
       "                        ...                   \n",
       "138                                        NaN\n",
       "139                                        NaN\n",
       "140                                        NaN\n",
       "141                                        NaN\n",
       "142                                        NaN\n",
       "Name: COMPANY NAME, Length: 143, dtype: object"
      ]
     },
     "execution_count": 45,
     "metadata": {},
     "output_type": "execute_result"
    }
   ],
   "source": [
    "df['COMPANY NAME']"
   ]
  },
  {
   "cell_type": "code",
   "execution_count": 47,
   "id": "51d102ec-1111-42f5-8bad-3303a9b9ecad",
   "metadata": {},
   "outputs": [
    {
     "data": {
      "text/plain": [
       "0         [ABASHAN UPODESHTA LIMITED , Est-1996)]\n",
       "1      [ADS ARCHITECTS DESIGN STUDIO , Est-2005)]\n",
       "2                            [AKRITY , Est-2008)]\n",
       "3          [ANWAR & ASSOCIATES , Est-25/01/2006)]\n",
       "4                           [AYOTEEK , Est-2016)]\n",
       "                          ...                    \n",
       "138                                           NaN\n",
       "139                                           NaN\n",
       "140                                           NaN\n",
       "141                                           NaN\n",
       "142                                           NaN\n",
       "Name: COMPANY NAME, Length: 143, dtype: object"
      ]
     },
     "execution_count": 47,
     "metadata": {},
     "output_type": "execute_result"
    }
   ],
   "source": [
    "df['COMPANY NAME'].str.split(pat=\"(\")"
   ]
  },
  {
   "cell_type": "code",
   "execution_count": 49,
   "id": "11f65f36-ed49-4a6f-9ad5-f38378744515",
   "metadata": {},
   "outputs": [
    {
     "data": {
      "text/plain": [
       "0         ABASHAN UPODESHTA LIMITED \n",
       "1      ADS ARCHITECTS DESIGN STUDIO \n",
       "2                            AKRITY \n",
       "3                ANWAR & ASSOCIATES \n",
       "4                           AYOTEEK \n",
       "                   ...              \n",
       "138                              NaN\n",
       "139                              NaN\n",
       "140                              NaN\n",
       "141                              NaN\n",
       "142                              NaN\n",
       "Name: COMPANY NAME, Length: 143, dtype: object"
      ]
     },
     "execution_count": 49,
     "metadata": {},
     "output_type": "execute_result"
    }
   ],
   "source": [
    "df['COMPANY NAME'].str.split(pat=\"(\").str[0]"
   ]
  },
  {
   "cell_type": "code",
   "execution_count": 51,
   "id": "8c3adcf2-6f76-4af6-8cab-d34115864733",
   "metadata": {},
   "outputs": [],
   "source": [
    "df[\"Establish year\"] = df['COMPANY NAME'].str.split(pat=\"(\").str[1] "
   ]
  },
  {
   "cell_type": "code",
   "execution_count": 53,
   "id": "17d0fc65-f6e4-4e3f-bdab-83ce22b07557",
   "metadata": {},
   "outputs": [],
   "source": [
    "df[\"Establish year\"]= df[\"Establish year\"].str.split(pat=\")\").str[0]"
   ]
  },
  {
   "cell_type": "code",
   "execution_count": 55,
   "id": "a6cb69e3-e79f-4b1f-b667-c0fa8c9826f0",
   "metadata": {},
   "outputs": [],
   "source": [
    "df['COMPANY NAME'] = df['COMPANY NAME'].str.split(pat=\"(\").str[0] "
   ]
  },
  {
   "cell_type": "code",
   "execution_count": 57,
   "id": "b0a315fe-aaf0-470a-9c3d-fc6c36c6e811",
   "metadata": {},
   "outputs": [
    {
     "data": {
      "text/html": [
       "<div>\n",
       "<style scoped>\n",
       "    .dataframe tbody tr th:only-of-type {\n",
       "        vertical-align: middle;\n",
       "    }\n",
       "\n",
       "    .dataframe tbody tr th {\n",
       "        vertical-align: top;\n",
       "    }\n",
       "\n",
       "    .dataframe thead th {\n",
       "        text-align: right;\n",
       "    }\n",
       "</style>\n",
       "<table border=\"1\" class=\"dataframe\">\n",
       "  <thead>\n",
       "    <tr style=\"text-align: right;\">\n",
       "      <th></th>\n",
       "      <th>IAB ID</th>\n",
       "      <th>COMPANY NAME</th>\n",
       "      <th>EMAIL</th>\n",
       "      <th>NAME OF PROPRIETOR/ PARTNER/ DIRECTOR(s) &amp; DESIGNATION:</th>\n",
       "      <th>FULL TIME TECHNICAL PERSONNEL OF THE FIRM/COMPANY:</th>\n",
       "      <th>OFFICE ADDRESS</th>\n",
       "      <th>Rating</th>\n",
       "      <th>WEBSITE</th>\n",
       "      <th>Establish year</th>\n",
       "    </tr>\n",
       "  </thead>\n",
       "  <tbody>\n",
       "    <tr>\n",
       "      <th>0</th>\n",
       "      <td>IAB-RP-W01</td>\n",
       "      <td>ABASHAN UPODESHTA LIMITED</td>\n",
       "      <td>mail@abashan.com</td>\n",
       "      <td>Ar. Luva Nahid Chowdhury (C-018) Managing Dire...</td>\n",
       "      <td>3 2 Total 5</td>\n",
       "      <td>Bengal Centre, Plot 2, Civil Aviation, New Ai...</td>\n",
       "      <td>4.7</td>\n",
       "      <td>www.4wallsbd.com</td>\n",
       "      <td>Est-1996</td>\n",
       "    </tr>\n",
       "    <tr>\n",
       "      <th>1</th>\n",
       "      <td>IAB-RP-V07</td>\n",
       "      <td>ADS ARCHITECTS DESIGN STUDIO</td>\n",
       "      <td>ads.architectstudio@gmail.com Contact: +88-02...</td>\n",
       "      <td>Ar. Md. Sayedul Hasan (H-103) Principal Architect</td>\n",
       "      <td>4 1 Total 5</td>\n",
       "      <td>House#29-31, Road#18, Sector#7, Uttara , Dhak...</td>\n",
       "      <td>4.4</td>\n",
       "      <td>www.vitti.com.bd</td>\n",
       "      <td>Est-2005</td>\n",
       "    </tr>\n",
       "    <tr>\n",
       "      <th>2</th>\n",
       "      <td>IAB-RP-V06</td>\n",
       "      <td>AKRITY</td>\n",
       "      <td>akriti.si@gmail.com,</td>\n",
       "      <td>Ar. Monir Hossain Khan (K-104) Architect</td>\n",
       "      <td>1 7 Total 8</td>\n",
       "      <td>House-10/GA (GF), Road-2, Shyamoli, Dhaka</td>\n",
       "      <td>4.7</td>\n",
       "      <td>NaN</td>\n",
       "      <td>Est-2008</td>\n",
       "    </tr>\n",
       "  </tbody>\n",
       "</table>\n",
       "</div>"
      ],
      "text/plain": [
       "       IAB ID                   COMPANY NAME  \\\n",
       "0  IAB-RP-W01     ABASHAN UPODESHTA LIMITED    \n",
       "1  IAB-RP-V07  ADS ARCHITECTS DESIGN STUDIO    \n",
       "2  IAB-RP-V06                        AKRITY    \n",
       "\n",
       "                                               EMAIL  \\\n",
       "0                                   mail@abashan.com   \n",
       "1   ads.architectstudio@gmail.com Contact: +88-02...   \n",
       "2                               akriti.si@gmail.com,   \n",
       "\n",
       "  NAME OF PROPRIETOR/ PARTNER/ DIRECTOR(s) & DESIGNATION:  \\\n",
       "0  Ar. Luva Nahid Chowdhury (C-018) Managing Dire...        \n",
       "1  Ar. Md. Sayedul Hasan (H-103) Principal Architect        \n",
       "2           Ar. Monir Hossain Khan (K-104) Architect        \n",
       "\n",
       "  FULL TIME TECHNICAL PERSONNEL OF THE FIRM/COMPANY:  \\\n",
       "0                                        3 2 Total 5   \n",
       "1                                        4 1 Total 5   \n",
       "2                                        1 7 Total 8   \n",
       "\n",
       "                                      OFFICE ADDRESS  Rating  \\\n",
       "0   Bengal Centre, Plot 2, Civil Aviation, New Ai...     4.7   \n",
       "1   House#29-31, Road#18, Sector#7, Uttara , Dhak...     4.4   \n",
       "2          House-10/GA (GF), Road-2, Shyamoli, Dhaka     4.7   \n",
       "\n",
       "             WEBSITE Establish year  \n",
       "0   www.4wallsbd.com       Est-1996  \n",
       "1   www.vitti.com.bd       Est-2005  \n",
       "2                NaN       Est-2008  "
      ]
     },
     "execution_count": 57,
     "metadata": {},
     "output_type": "execute_result"
    }
   ],
   "source": [
    "df.head(3)"
   ]
  },
  {
   "cell_type": "markdown",
   "id": "408abfd4-afdb-4ffc-b464-671e97517e2e",
   "metadata": {},
   "source": [
    "# Remove \"?\" from \"Establish year\" column and Replace with \"-\""
   ]
  },
  {
   "cell_type": "code",
   "execution_count": 59,
   "id": "cd746141-57de-4e90-93cb-0c02eb4716e5",
   "metadata": {},
   "outputs": [],
   "source": [
    "df[\"Establish year\"] = df[\"Establish year\"].str.replace(\"?\", \"-\")"
   ]
  },
  {
   "cell_type": "code",
   "execution_count": 61,
   "id": "b8f7364e-c410-4139-b4ce-105c214c86d1",
   "metadata": {},
   "outputs": [
    {
     "data": {
      "text/plain": [
       "array(['Est-1996', 'Est-2005', 'Est-2008', 'Est-25/01/2006', 'Est-2016',\n",
       "       'Est-1982', 'Est-2012', 'Est-2010', 'Est-02/04/1998', 'ARCON',\n",
       "       'Est-2009', 'Est-1997', 'Est-2004', 'Est- ', 'Est-2018',\n",
       "       'Est-2014', 'PVT.', 'Est- 2015', 'Est-2013', 'Est-2017',\n",
       "       'Est-1985', 'Est-', 'Est-1988', 'Est-1986', 'Est-1978', 'Est-1992',\n",
       "       'Est-1998', 'Est-may 1977', 'Est-2015', 'Est-1995', 'Est-1989',\n",
       "       'Est-2019', 'Est-1999', 'Est-2007', 'Est- 2011', 'Est-may 2009',\n",
       "       'Est-2003', 'Est-2020', 'Est-2000', 'Est-2006', 'Est-28/8/1996',\n",
       "       'Est-8/11/1984', 'Est-1990', 'Est-6/6/2001', 'Est-2011',\n",
       "       'Est-2001', 'Est-1993', 'Est- 2013', 'Est-2002', nan], dtype=object)"
      ]
     },
     "execution_count": 61,
     "metadata": {},
     "output_type": "execute_result"
    }
   ],
   "source": [
    "df[\"Establish year\"].unique()"
   ]
  },
  {
   "cell_type": "code",
   "execution_count": 63,
   "id": "ae183eba-59c0-451c-9f3f-04b52fc5026c",
   "metadata": {},
   "outputs": [],
   "source": [
    "df[\"Establish year\"]= df[\"Establish year\"].str.replace('PVT.', \"0\") "
   ]
  },
  {
   "cell_type": "code",
   "execution_count": 65,
   "id": "9198ca9c-dfc8-42e6-8dd9-33c80bd032d7",
   "metadata": {},
   "outputs": [],
   "source": [
    "df[\"Establish year\"]= df[\"Establish year\"].str.replace('ARCON', \"0\") "
   ]
  },
  {
   "cell_type": "markdown",
   "id": "da9f1600-8baf-40d6-b622-d4d75e3b1f64",
   "metadata": {},
   "source": [
    "# Crop and take only year value in \"Establish Year\" column "
   ]
  },
  {
   "cell_type": "code",
   "execution_count": 67,
   "id": "fb121b0a-7d32-4067-82ec-7a6d88874fb2",
   "metadata": {},
   "outputs": [
    {
     "data": {
      "text/plain": [
       "0      1996\n",
       "1      2005\n",
       "2      2008\n",
       "3      2006\n",
       "4      2016\n",
       "       ... \n",
       "138     NaN\n",
       "139     NaN\n",
       "140     NaN\n",
       "141     NaN\n",
       "142     NaN\n",
       "Name: Establish year, Length: 143, dtype: object"
      ]
     },
     "execution_count": 67,
     "metadata": {},
     "output_type": "execute_result"
    }
   ],
   "source": [
    "df[\"Establish year\"].str[-4:]"
   ]
  },
  {
   "cell_type": "code",
   "execution_count": 69,
   "id": "5c587736-0394-468c-a570-3f145863afb2",
   "metadata": {},
   "outputs": [],
   "source": [
    "df[\"Establish year\"] = df[\"Establish year\"].str[-4:]"
   ]
  },
  {
   "cell_type": "markdown",
   "id": "da516a73-390e-4d52-a922-3068aa56dd02",
   "metadata": {},
   "source": [
    "# Seperate email and Contact and create separate columns"
   ]
  },
  {
   "cell_type": "code",
   "execution_count": 71,
   "id": "4e9a4cc2-65b5-485f-9498-d8cf1f1c4570",
   "metadata": {},
   "outputs": [
    {
     "data": {
      "text/plain": [
       "0                                       mail@abashan.com\n",
       "1       ads.architectstudio@gmail.com Contact: +88-02...\n",
       "2                                   akriti.si@gmail.com,\n",
       "3               ahaq06@yahoo.com Contact: +88-02-8837313\n",
       "4         arc.architect@gmail.com, nahaskhalil@yahoo.com\n",
       "                             ...                        \n",
       "138     info@vuumaatra.com , ziaul.sharif@gmail.com ,...\n",
       "139     dsarif14@yahoo.com, dsarifoffice@gmail.com Co...\n",
       "140     vittibd@gmail.com Contact: +88 01912888015 +8...\n",
       "141     wahidasif@gmaii.com Contact: +88 01711433431 ...\n",
       "142                                                  NaN\n",
       "Name: EMAIL, Length: 143, dtype: object"
      ]
     },
     "execution_count": 71,
     "metadata": {},
     "output_type": "execute_result"
    }
   ],
   "source": [
    "df['EMAIL']"
   ]
  },
  {
   "cell_type": "code",
   "execution_count": 73,
   "id": "8dc6dd1b-8053-4787-8781-8b4518e2c20b",
   "metadata": {},
   "outputs": [
    {
     "data": {
      "text/plain": [
       "0                                    [ mail@abashan.com]\n",
       "1      [ ads.architectstudio@gmail.com Contact,  +88-...\n",
       "2                                [ akriti.si@gmail.com,]\n",
       "3           [ ahaq06@yahoo.com Contact,  +88-02-8837313]\n",
       "4      [ arc.architect@gmail.com, nahaskhalil@yahoo.com]\n",
       "                             ...                        \n",
       "138    [ info@vuumaatra.com , ziaul.sharif@gmail.com ...\n",
       "139    [ dsarif14@yahoo.com, dsarifoffice@gmail.com C...\n",
       "140    [ vittibd@gmail.com Contact,  +88 01912888015 ...\n",
       "141    [ wahidasif@gmaii.com Contact,  +88 0171143343...\n",
       "142                                                  NaN\n",
       "Name: EMAIL, Length: 143, dtype: object"
      ]
     },
     "execution_count": 73,
     "metadata": {},
     "output_type": "execute_result"
    }
   ],
   "source": [
    "df['EMAIL'].str.split(pat=\":\")"
   ]
  },
  {
   "cell_type": "code",
   "execution_count": 75,
   "id": "25cb4c6e-8f01-44f2-9539-ad39e6905032",
   "metadata": {},
   "outputs": [
    {
     "data": {
      "text/plain": [
       "0                                  NaN\n",
       "1                       +88-02-8950536\n",
       "2                                  NaN\n",
       "3                       +88-02-8837313\n",
       "4                                  NaN\n",
       "                    ...               \n",
       "138     +88?02?58812326, 8801796585535\n",
       "139                    +88?01971566019\n",
       "140     +88 01912888015 +88 02?8143471\n",
       "141     +88 01711433431 +88 02?9890003\n",
       "142                                NaN\n",
       "Name: EMAIL, Length: 143, dtype: object"
      ]
     },
     "execution_count": 75,
     "metadata": {},
     "output_type": "execute_result"
    }
   ],
   "source": [
    "df['EMAIL'].str.split(pat=\":\").str[1]"
   ]
  },
  {
   "cell_type": "code",
   "execution_count": 77,
   "id": "79577384-95ff-4bd8-98d7-189c66fd4c19",
   "metadata": {},
   "outputs": [],
   "source": [
    "df[\"Contact\"] = df['EMAIL'].str.split(pat=\":\").str[1]"
   ]
  },
  {
   "cell_type": "code",
   "execution_count": 79,
   "id": "70ece847-b096-4e74-accf-db48d8a4f2dc",
   "metadata": {},
   "outputs": [],
   "source": [
    "df[\"Contact\"] = df[\"Contact\"].str.replace(\"?\", \"-\")"
   ]
  },
  {
   "cell_type": "code",
   "execution_count": 81,
   "id": "245491c0-3b05-4ed3-8dc6-f134a6eb16ae",
   "metadata": {},
   "outputs": [
    {
     "data": {
      "text/plain": [
       "0                                       mail@abashan.com\n",
       "1                  ads.architectstudio@gmail.com Contact\n",
       "2                                   akriti.si@gmail.com,\n",
       "3                               ahaq06@yahoo.com Contact\n",
       "4         arc.architect@gmail.com, nahaskhalil@yahoo.com\n",
       "                             ...                        \n",
       "138     info@vuumaatra.com , ziaul.sharif@gmail.com ,...\n",
       "139     dsarif14@yahoo.com, dsarifoffice@gmail.com Co...\n",
       "140                            vittibd@gmail.com Contact\n",
       "141                          wahidasif@gmaii.com Contact\n",
       "142                                                  NaN\n",
       "Name: EMAIL, Length: 143, dtype: object"
      ]
     },
     "execution_count": 81,
     "metadata": {},
     "output_type": "execute_result"
    }
   ],
   "source": [
    "df['EMAIL'].str.split(pat=\":\").str[0]"
   ]
  },
  {
   "cell_type": "code",
   "execution_count": 83,
   "id": "b94fe843-a22d-4c2d-b36b-63d8c19cb3cd",
   "metadata": {},
   "outputs": [],
   "source": [
    "df[\"EMAIL\"] = df['EMAIL'].str.split(pat=\":\").str[0]"
   ]
  },
  {
   "cell_type": "code",
   "execution_count": 85,
   "id": "e72f9f90-fe8b-45b6-ad77-b3bb5f83829c",
   "metadata": {},
   "outputs": [],
   "source": [
    "df[\"EMAIL\"]  = df[\"EMAIL\"].str.split(pat=\",\").str[0]"
   ]
  },
  {
   "cell_type": "code",
   "execution_count": 87,
   "id": "dd6d97bd-9b93-49a9-a07c-88ac65aed9bb",
   "metadata": {},
   "outputs": [],
   "source": [
    "df[\"EMAIL\"] = df[\"EMAIL\"].str.split(pat=\" \").str[1]"
   ]
  },
  {
   "cell_type": "markdown",
   "id": "7157dd1c-8a59-40c9-9592-9837edca06f5",
   "metadata": {},
   "source": [
    "# Seperate Name of Proppritors, Designation and LAB ID"
   ]
  },
  {
   "cell_type": "code",
   "execution_count": 89,
   "id": "46dd47fc-c6c7-43e7-bbb8-32d1f1c106bc",
   "metadata": {},
   "outputs": [
    {
     "data": {
      "text/plain": [
       "0      [Ar. Luva Nahid Chowdhury , C-018) Managing Di...\n",
       "1      [Ar. Md. Sayedul Hasan , H-103) Principal Arch...\n",
       "2            [Ar. Monir Hossain Khan , K-104) Architect]\n",
       "3      [Ar. Anwarul Haq Chow , C-021) Principal Archi...\n",
       "4      [Ar. Nahas Ahmed khalil , K-022) Principal Arc...\n",
       "                             ...                        \n",
       "138    [Ar. Mohammed Ziaul Sharif , S?094) Chief Arch...\n",
       "139    [Ar. Dewan Shamsul Arif , A?079) Proprietor & ...\n",
       "140    [Ar. Md. Ishtiaque Zahir , Z?011) Director & A...\n",
       "141     [Ar. M. Wahid Asif , A?117) Principal Architect]\n",
       "142                                                  NaN\n",
       "Name: NAME OF PROPRIETOR/ PARTNER/ DIRECTOR(s) & DESIGNATION:, Length: 143, dtype: object"
      ]
     },
     "execution_count": 89,
     "metadata": {},
     "output_type": "execute_result"
    }
   ],
   "source": [
    "df['NAME OF PROPRIETOR/ PARTNER/ DIRECTOR(s) & DESIGNATION:'].str.split(pat=\"(\")"
   ]
  },
  {
   "cell_type": "code",
   "execution_count": 91,
   "id": "7615cbe5-5f95-4acd-b662-cba2e1899135",
   "metadata": {},
   "outputs": [],
   "source": [
    "df['NAME OF PROPRIETOR'] = df['NAME OF PROPRIETOR/ PARTNER/ DIRECTOR(s) & DESIGNATION:'].str.split(pat=\"(\").str[0]"
   ]
  },
  {
   "cell_type": "code",
   "execution_count": 93,
   "id": "ba35dde6-a61f-429b-92ac-0171d6ef16c6",
   "metadata": {},
   "outputs": [],
   "source": [
    "df[\"LAB ID\"] = df['NAME OF PROPRIETOR/ PARTNER/ DIRECTOR(s) & DESIGNATION:'].str.split(pat=\"(\").str[1]"
   ]
  },
  {
   "cell_type": "code",
   "execution_count": 95,
   "id": "8338572b-7e61-4dfb-b06e-49d460cb40f3",
   "metadata": {},
   "outputs": [],
   "source": [
    "df[\"DESIGNATION\"] = df[\"LAB ID\"].str.split(pat=\")\").str[1]"
   ]
  },
  {
   "cell_type": "code",
   "execution_count": 97,
   "id": "5eb173af-cfdb-4e42-ab13-2609bc632c38",
   "metadata": {},
   "outputs": [],
   "source": [
    "df[\"DESIGNATION\"] = df[\"DESIGNATION\"].str.split(pat=\"&\").str[0]"
   ]
  },
  {
   "cell_type": "code",
   "execution_count": 99,
   "id": "6d85beff-706b-4723-bf1e-37ec7489a336",
   "metadata": {},
   "outputs": [],
   "source": [
    "df[\"LAB ID\"] = df[\"LAB ID\"].str.split(pat=\")\").str[0]"
   ]
  },
  {
   "cell_type": "code",
   "execution_count": 101,
   "id": "df4ab8ce-ce9f-4d20-9f57-baa9aacad9bc",
   "metadata": {},
   "outputs": [],
   "source": [
    "df[\"LAB ID\"] = df[\"LAB ID\"].str.replace(\"?\", \"-\")"
   ]
  },
  {
   "cell_type": "markdown",
   "id": "bf5fd937-5a3d-4ae7-8bb1-3df9b23c019c",
   "metadata": {},
   "source": [
    "# Merge SImilar \"Designation\" Names"
   ]
  },
  {
   "cell_type": "code",
   "execution_count": 345,
   "id": "baadd130-fb68-4ebc-ad2d-a504af5e5bcc",
   "metadata": {},
   "outputs": [
    {
     "data": {
      "text/plain": [
       "array([' Managing Director', ' Principal Architect', ' Architect',\n",
       "       ' Partner Architect ', ' Chairman ', ' Partner ', ' Proprietor',\n",
       "       ' CEO ', ' Managing Partner', ' Founder ', ' Principal',\n",
       "       ' Sr. Partner ', ' Sr. Architect', ' President ', ' '],\n",
       "      dtype=object)"
      ]
     },
     "execution_count": 345,
     "metadata": {},
     "output_type": "execute_result"
    }
   ],
   "source": [
    "df['designation'].unique()"
   ]
  },
  {
   "cell_type": "code",
   "execution_count": 343,
   "id": "7de35139-b1e5-4ac2-9f04-d5633fabd1b2",
   "metadata": {},
   "outputs": [],
   "source": [
    "df['designation'] = df['designation'].str.replace(' Chief Architect',' Principal Architect')"
   ]
  },
  {
   "cell_type": "code",
   "execution_count": 337,
   "id": "0af76bad-696a-401d-a44b-af679857af3b",
   "metadata": {},
   "outputs": [],
   "source": [
    "replacements = {' Principal Architect ':' Principal Architect', ' Managing Director ':' Managing Director', ' Partner':' Partner '}\n",
    "df['designation'] = df['designation'].replace(replacements)"
   ]
  },
  {
   "cell_type": "code",
   "execution_count": 327,
   "id": "84f81dcd-5c3d-4fe7-9e98-faa6af275665",
   "metadata": {},
   "outputs": [],
   "source": [
    "replacements = { ' CEO/Proprietor':' CEO ', ' Architect ': ' Architect'}\n",
    "df['designation'] = df['designation'].replace(replacements)"
   ]
  },
  {
   "cell_type": "code",
   "execution_count": 333,
   "id": "8c4d9051-7395-4be5-9893-944d8d6ad937",
   "metadata": {},
   "outputs": [],
   "source": [
    "replacements ={' Architect Partner ': ' Partner Architect ', ' Chief Executive':' CEO ', ' Director ':' Managing Director', ' Chairperson ':' Chairman ',' Proprietor ':' Proprietor'}\n",
    "df['designation'] = df['designation'].replace(replacements)"
   ]
  },
  {
   "cell_type": "code",
   "execution_count": 323,
   "id": "7cbc80cd-8f0c-4631-95c6-22939c6a00ee",
   "metadata": {},
   "outputs": [],
   "source": [
    "replacements = {' Partner Architect':' Partner Architect ', ' Managing Partner ':' Managing Partner', ' CEO':' CEO ', ' Partner Architect':' Partner Architect '}\n",
    "df['designation'] = df['designation'].replace(replacements)"
   ]
  },
  {
   "cell_type": "markdown",
   "id": "be8e0cd5-c3b7-46cd-94eb-8ff154169477",
   "metadata": {},
   "source": [
    "# Separate Office address || Thana and Postcode and Create Seperate columns"
   ]
  },
  {
   "cell_type": "code",
   "execution_count": 103,
   "id": "217f8561-a46f-4f16-84b9-ec9617819c8c",
   "metadata": {},
   "outputs": [],
   "source": [
    "df[\"Postcode\"] = df['OFFICE ADDRESS'].str[-25:]"
   ]
  },
  {
   "cell_type": "code",
   "execution_count": 105,
   "id": "8d814fee-4012-4c9c-b456-c475b80548cf",
   "metadata": {},
   "outputs": [],
   "source": [
    "df[\"Postcode\"] = df[\"Postcode\"].str.split(pat = \" \").str[2]"
   ]
  },
  {
   "cell_type": "code",
   "execution_count": 107,
   "id": "36a3ea24-f614-4143-b114-e1a859188c9d",
   "metadata": {},
   "outputs": [
    {
     "data": {
      "text/plain": [
       "array(['Dhaka-1229', ',', 'Shyamoli,', 'Dhaka', 'Dhaka-1209', nan,\n",
       "       'Dhaka-1205', 'Road-10,', 'Lalmatia,', '01,', 'Dhaka-1207',\n",
       "       'Road,', 'Banani,', 'Bangladesh', 'Chittagong.', 'Dhaka-1212',\n",
       "       'Shamoly,', 'Dhaka-1213', 'Mirpur,', 'Floor,', 'Dhaka-1216',\n",
       "       'Khilgaon,', 'Town,', 'Dhaka?1206', 'Dkaka?1213', 'Dhaka?1207',\n",
       "       'Dhaka?1205', 'Dhaka?1212', 'Dhaka?1213', 'Dhaka?1215',\n",
       "       'Sector?4,', 'Banani', 'Block?A,', 'Dhaka?1209', 'Dhaka?1207.',\n",
       "       'R/A,', 'Dhaka?1209.', 'Mohkhali', 'Dhaka?1230', 'Gazipur?1700',\n",
       "       'Dhaka?1206.', 'Dhaka?121', 'Dhaka?1216', '2,', 'C/A,', '1205',\n",
       "       'DOHS,', 'road,', 'Dhaka?1217', ',Dhaka', 'Dhanmondi?1205',\n",
       "       'Area,', 'Chittagong', 'Panthapoth,', 'Dhaka?1212.'], dtype=object)"
      ]
     },
     "execution_count": 107,
     "metadata": {},
     "output_type": "execute_result"
    }
   ],
   "source": [
    "df[\"Postcode\"].unique()"
   ]
  },
  {
   "cell_type": "code",
   "execution_count": 109,
   "id": "bf593bd1-d2ad-4265-894b-a5d0ebd7870f",
   "metadata": {},
   "outputs": [],
   "source": [
    "df = df.drop([\"Postcode\"],axis=1)"
   ]
  },
  {
   "cell_type": "code",
   "execution_count": 111,
   "id": "605feac4-5193-4836-905e-300d8a273684",
   "metadata": {},
   "outputs": [],
   "source": [
    "df = df.drop(['NAME OF PROPRIETOR/ PARTNER/ DIRECTOR(s) & DESIGNATION:'],axis=1)"
   ]
  },
  {
   "cell_type": "markdown",
   "id": "84b83a09-d33a-4a62-bd7a-c3cf7e900e29",
   "metadata": {},
   "source": [
    "# Seperate IAB Membar Architect || Archetectual Graduate || and Total Member and create separate Columns"
   ]
  },
  {
   "cell_type": "code",
   "execution_count": 113,
   "id": "828fa2c0-f83d-4b0c-85e5-1298ce0ca97c",
   "metadata": {},
   "outputs": [
    {
     "data": {
      "text/plain": [
       "Index(['IAB ID', 'COMPANY NAME', 'EMAIL',\n",
       "       'FULL TIME TECHNICAL PERSONNEL OF THE FIRM/COMPANY:', 'OFFICE ADDRESS',\n",
       "       'Rating', 'WEBSITE', 'Establish year', 'Contact', 'NAME OF PROPRIETOR',\n",
       "       'LAB ID', 'DESIGNATION'],\n",
       "      dtype='object')"
      ]
     },
     "execution_count": 113,
     "metadata": {},
     "output_type": "execute_result"
    }
   ],
   "source": [
    "df.columns"
   ]
  },
  {
   "cell_type": "code",
   "execution_count": 115,
   "id": "9c80b64c-7d39-4ba5-978f-0cf0b30923bf",
   "metadata": {},
   "outputs": [
    {
     "data": {
      "text/plain": [
       "0      [3, 2, Total, 5]\n",
       "1      [4, 1, Total, 5]\n",
       "2      [1, 7, Total, 8]\n",
       "3      [1, 3, Total, 4]\n",
       "4      [5, 3, Total, 8]\n",
       "             ...       \n",
       "138    [3, 1, Total, 4]\n",
       "139    [5, 0, Total, 5]\n",
       "140             [Total]\n",
       "141             [Total]\n",
       "142                 NaN\n",
       "Name: FULL TIME TECHNICAL PERSONNEL OF THE FIRM/COMPANY:, Length: 143, dtype: object"
      ]
     },
     "execution_count": 115,
     "metadata": {},
     "output_type": "execute_result"
    }
   ],
   "source": [
    "df['FULL TIME TECHNICAL PERSONNEL OF THE FIRM/COMPANY:'].str.split(pat =\" \")"
   ]
  },
  {
   "cell_type": "code",
   "execution_count": 117,
   "id": "8f8019ce-3e92-44f3-ac3b-1c769f248a27",
   "metadata": {},
   "outputs": [],
   "source": [
    "df[\"IAB Member Architect\"] = df['FULL TIME TECHNICAL PERSONNEL OF THE FIRM/COMPANY:'].str.split(pat =\" \").str[0]"
   ]
  },
  {
   "cell_type": "code",
   "execution_count": 119,
   "id": "604b1eb5-a999-4964-ac7a-a13dc2b3057c",
   "metadata": {},
   "outputs": [],
   "source": [
    "df[\"Architectural Graduate\"] = df['FULL TIME TECHNICAL PERSONNEL OF THE FIRM/COMPANY:'].str.split(pat =\" \").str[1]"
   ]
  },
  {
   "cell_type": "code",
   "execution_count": 121,
   "id": "04891c3d-6162-4ddf-a8da-9959a5a92255",
   "metadata": {},
   "outputs": [],
   "source": [
    "df[\"Total Member\"] = df['FULL TIME TECHNICAL PERSONNEL OF THE FIRM/COMPANY:'].str.split(pat =\" \").str[3]"
   ]
  },
  {
   "cell_type": "markdown",
   "id": "a071b96d-4837-4246-bdbf-36fd4f8410cc",
   "metadata": {},
   "source": [
    "# Drop  this 'FULL TIME TECHNICAL PERSONNEL OF THE FIRM/COMPANY:' columns"
   ]
  },
  {
   "cell_type": "code",
   "execution_count": 123,
   "id": "4e73ddd1-f782-477d-8916-ce76939d9a63",
   "metadata": {},
   "outputs": [],
   "source": [
    "df = df.drop('FULL TIME TECHNICAL PERSONNEL OF THE FIRM/COMPANY:', axis=1)"
   ]
  },
  {
   "cell_type": "markdown",
   "id": "7afd582f-dc8b-4603-a9ac-ffc9f82cc3f5",
   "metadata": {},
   "source": [
    "# Lowecase Column names || Insert \"_\" between column name space"
   ]
  },
  {
   "cell_type": "code",
   "execution_count": 125,
   "id": "b3c048ce-a2e9-4c04-b115-b02101b03e8a",
   "metadata": {},
   "outputs": [
    {
     "data": {
      "text/plain": [
       "Index(['IAB ID', 'COMPANY NAME', 'EMAIL', 'OFFICE ADDRESS', 'Rating',\n",
       "       'WEBSITE', 'Establish year', 'Contact', 'NAME OF PROPRIETOR', 'LAB ID',\n",
       "       'DESIGNATION', 'IAB Member Architect', 'Architectural Graduate',\n",
       "       'Total Member'],\n",
       "      dtype='object')"
      ]
     },
     "execution_count": 125,
     "metadata": {},
     "output_type": "execute_result"
    }
   ],
   "source": [
    "df.columns"
   ]
  },
  {
   "cell_type": "code",
   "execution_count": 129,
   "id": "71eaa6a4-3fed-43d3-bebb-10f9c900af33",
   "metadata": {},
   "outputs": [],
   "source": [
    "df.columns = df.columns.str.lower()"
   ]
  },
  {
   "cell_type": "code",
   "execution_count": 131,
   "id": "f13b034c-1dbf-43fb-b95f-622175dc5937",
   "metadata": {},
   "outputs": [],
   "source": [
    "df.columns = df.columns.str.replace(\" \", \"_\")"
   ]
  },
  {
   "cell_type": "code",
   "execution_count": 133,
   "id": "04a1f9ec-2e06-4e0b-90dc-c6910bda688c",
   "metadata": {},
   "outputs": [
    {
     "data": {
      "text/html": [
       "<div>\n",
       "<style scoped>\n",
       "    .dataframe tbody tr th:only-of-type {\n",
       "        vertical-align: middle;\n",
       "    }\n",
       "\n",
       "    .dataframe tbody tr th {\n",
       "        vertical-align: top;\n",
       "    }\n",
       "\n",
       "    .dataframe thead th {\n",
       "        text-align: right;\n",
       "    }\n",
       "</style>\n",
       "<table border=\"1\" class=\"dataframe\">\n",
       "  <thead>\n",
       "    <tr style=\"text-align: right;\">\n",
       "      <th></th>\n",
       "      <th>iab_id</th>\n",
       "      <th>company_name</th>\n",
       "      <th>email</th>\n",
       "      <th>office_address</th>\n",
       "      <th>rating</th>\n",
       "      <th>website</th>\n",
       "      <th>establish_year</th>\n",
       "      <th>contact</th>\n",
       "      <th>name_of_proprietor</th>\n",
       "      <th>lab_id</th>\n",
       "      <th>designation</th>\n",
       "      <th>iab_member_architect</th>\n",
       "      <th>architectural_graduate</th>\n",
       "      <th>total_member</th>\n",
       "    </tr>\n",
       "  </thead>\n",
       "  <tbody>\n",
       "    <tr>\n",
       "      <th>0</th>\n",
       "      <td>IAB-RP-W01</td>\n",
       "      <td>ABASHAN UPODESHTA LIMITED</td>\n",
       "      <td>mail@abashan.com</td>\n",
       "      <td>Bengal Centre, Plot 2, Civil Aviation, New Ai...</td>\n",
       "      <td>4.7</td>\n",
       "      <td>www.4wallsbd.com</td>\n",
       "      <td>1996</td>\n",
       "      <td>NaN</td>\n",
       "      <td>Ar. Luva Nahid Chowdhury</td>\n",
       "      <td>C-018</td>\n",
       "      <td>Managing Director</td>\n",
       "      <td>3</td>\n",
       "      <td>2</td>\n",
       "      <td>5</td>\n",
       "    </tr>\n",
       "    <tr>\n",
       "      <th>1</th>\n",
       "      <td>IAB-RP-V07</td>\n",
       "      <td>ADS ARCHITECTS DESIGN STUDIO</td>\n",
       "      <td>ads.architectstudio@gmail.com</td>\n",
       "      <td>House#29-31, Road#18, Sector#7, Uttara , Dhak...</td>\n",
       "      <td>4.4</td>\n",
       "      <td>www.vitti.com.bd</td>\n",
       "      <td>2005</td>\n",
       "      <td>+88-02-8950536</td>\n",
       "      <td>Ar. Md. Sayedul Hasan</td>\n",
       "      <td>H-103</td>\n",
       "      <td>Principal Architect</td>\n",
       "      <td>4</td>\n",
       "      <td>1</td>\n",
       "      <td>5</td>\n",
       "    </tr>\n",
       "    <tr>\n",
       "      <th>2</th>\n",
       "      <td>IAB-RP-V06</td>\n",
       "      <td>AKRITY</td>\n",
       "      <td>akriti.si@gmail.com</td>\n",
       "      <td>House-10/GA (GF), Road-2, Shyamoli, Dhaka</td>\n",
       "      <td>4.7</td>\n",
       "      <td>NaN</td>\n",
       "      <td>2008</td>\n",
       "      <td>NaN</td>\n",
       "      <td>Ar. Monir Hossain Khan</td>\n",
       "      <td>K-104</td>\n",
       "      <td>Architect</td>\n",
       "      <td>1</td>\n",
       "      <td>7</td>\n",
       "      <td>8</td>\n",
       "    </tr>\n",
       "  </tbody>\n",
       "</table>\n",
       "</div>"
      ],
      "text/plain": [
       "       iab_id                   company_name                          email  \\\n",
       "0  IAB-RP-W01     ABASHAN UPODESHTA LIMITED                mail@abashan.com   \n",
       "1  IAB-RP-V07  ADS ARCHITECTS DESIGN STUDIO   ads.architectstudio@gmail.com   \n",
       "2  IAB-RP-V06                        AKRITY             akriti.si@gmail.com   \n",
       "\n",
       "                                      office_address  rating  \\\n",
       "0   Bengal Centre, Plot 2, Civil Aviation, New Ai...     4.7   \n",
       "1   House#29-31, Road#18, Sector#7, Uttara , Dhak...     4.4   \n",
       "2          House-10/GA (GF), Road-2, Shyamoli, Dhaka     4.7   \n",
       "\n",
       "             website establish_year          contact  \\\n",
       "0   www.4wallsbd.com           1996              NaN   \n",
       "1   www.vitti.com.bd           2005   +88-02-8950536   \n",
       "2                NaN           2008              NaN   \n",
       "\n",
       "          name_of_proprietor lab_id           designation  \\\n",
       "0  Ar. Luva Nahid Chowdhury   C-018     Managing Director   \n",
       "1     Ar. Md. Sayedul Hasan   H-103   Principal Architect   \n",
       "2    Ar. Monir Hossain Khan   K-104             Architect   \n",
       "\n",
       "  iab_member_architect architectural_graduate total_member  \n",
       "0                    3                      2            5  \n",
       "1                    4                      1            5  \n",
       "2                    1                      7            8  "
      ]
     },
     "execution_count": 133,
     "metadata": {},
     "output_type": "execute_result"
    }
   ],
   "source": [
    "df.head(3)"
   ]
  },
  {
   "cell_type": "markdown",
   "id": "8b42832e-5774-4132-889b-f8a160dee383",
   "metadata": {},
   "source": [
    "# Fixing Data types"
   ]
  },
  {
   "cell_type": "code",
   "execution_count": 135,
   "id": "7302c564-2194-43a7-a2aa-a4f6cce9decd",
   "metadata": {},
   "outputs": [
    {
     "data": {
      "text/plain": [
       "iab_id                     object\n",
       "company_name               object\n",
       "email                      object\n",
       "office_address             object\n",
       "rating                    float64\n",
       "website                    object\n",
       "establish_year             object\n",
       "contact                    object\n",
       "name_of_proprietor         object\n",
       "lab_id                     object\n",
       "designation                object\n",
       "iab_member_architect       object\n",
       "architectural_graduate     object\n",
       "total_member               object\n",
       "dtype: object"
      ]
     },
     "execution_count": 135,
     "metadata": {},
     "output_type": "execute_result"
    }
   ],
   "source": [
    "df.dtypes"
   ]
  },
  {
   "cell_type": "code",
   "execution_count": 137,
   "id": "9b5ecf55-5417-4771-800f-09633df40e8c",
   "metadata": {},
   "outputs": [],
   "source": [
    "df[\"iab_member_architect\"] = pd.to_numeric(df[\"iab_member_architect\"], errors='coerce').fillna(0).astype(int)"
   ]
  },
  {
   "cell_type": "code",
   "execution_count": 139,
   "id": "f4d380cd-cc45-4b46-9747-0d9eb18d6d78",
   "metadata": {},
   "outputs": [],
   "source": [
    "df[\"architectural_graduate\"] = pd.to_numeric(df[\"architectural_graduate\"], errors='coerce').fillna(0).astype(int)"
   ]
  },
  {
   "cell_type": "code",
   "execution_count": 141,
   "id": "96e1410b-af55-4f3a-bf6a-96e81ae714f3",
   "metadata": {},
   "outputs": [],
   "source": [
    "df[\"total_member\"] = pd.to_numeric(df[\"total_member\"], errors='coerce').fillna(0).astype(int) "
   ]
  },
  {
   "cell_type": "code",
   "execution_count": 143,
   "id": "7c00ad91-0b78-4193-b825-a9ee81209cf4",
   "metadata": {},
   "outputs": [],
   "source": [
    "df[\"establish_year\"] = pd.to_numeric(df[\"establish_year\"], errors='coerce').fillna(0).astype(int) "
   ]
  },
  {
   "cell_type": "code",
   "execution_count": 145,
   "id": "53d03b63-c3b0-48f1-9cc3-be65dbc8ea43",
   "metadata": {},
   "outputs": [
    {
     "data": {
      "text/plain": [
       "iab_id                     object\n",
       "company_name               object\n",
       "email                      object\n",
       "office_address             object\n",
       "rating                    float64\n",
       "website                    object\n",
       "establish_year              int32\n",
       "contact                    object\n",
       "name_of_proprietor         object\n",
       "lab_id                     object\n",
       "designation                object\n",
       "iab_member_architect        int32\n",
       "architectural_graduate      int32\n",
       "total_member                int32\n",
       "dtype: object"
      ]
     },
     "execution_count": 145,
     "metadata": {},
     "output_type": "execute_result"
    }
   ],
   "source": [
    "df.dtypes"
   ]
  },
  {
   "cell_type": "markdown",
   "id": "7643bb24-fcde-4d21-bc9f-26682b023f40",
   "metadata": {},
   "source": [
    "# Add \"Rating Status\" Columns"
   ]
  },
  {
   "cell_type": "code",
   "execution_count": 147,
   "id": "5522f842-cdc6-4b0d-86fd-f9e0a9a0ba56",
   "metadata": {},
   "outputs": [],
   "source": [
    "df['rating_status'] = df['rating'].notnull().map({True: 'Rated', False: 'Not Rated'})"
   ]
  },
  {
   "cell_type": "markdown",
   "id": "d1c4da7f-0566-4278-8ebe-d1d1f7ab217b",
   "metadata": {},
   "source": [
    "# Add \"Website Status\" Coclumn"
   ]
  },
  {
   "cell_type": "code",
   "execution_count": 347,
   "id": "dd0bf971-a07d-4913-b935-16fc21ed2fa6",
   "metadata": {},
   "outputs": [],
   "source": [
    "df['website_status'] = df['website'].notnull().map({True: \"Available\", False: \"Unavailable\"})"
   ]
  },
  {
   "cell_type": "markdown",
   "id": "5e953c58-ea42-49fe-8826-7924fbc2252f",
   "metadata": {},
   "source": [
    "# Extract Thana name and create a column"
   ]
  },
  {
   "cell_type": "code",
   "execution_count": 155,
   "id": "ab8b2508-d15b-42d4-96cb-b228475b89be",
   "metadata": {},
   "outputs": [],
   "source": [
    "import re\n",
    "def extract_thana(address):\n",
    "    if isinstance(address, str): # because there was null values in office_address\n",
    "        match = re.search(r'\\b([A-Za-z\\s-]+),\\sDhaka', address)\n",
    "        if match:\n",
    "            return match.group(1).strip()\n",
    "    return \"-\"\n",
    "df['thana'] = df['office_address'].apply(extract_thana)"
   ]
  },
  {
   "cell_type": "code",
   "execution_count": 157,
   "id": "d2217712-a575-406d-9c20-33345e10d10a",
   "metadata": {},
   "outputs": [
    {
     "data": {
      "text/plain": [
       "array(['Khilkhet', 'Uttara', 'Shyamoli', 'Mohakhali', 'Dhanmondi', '-',\n",
       "       'Kalabagan', 'Lalmatia', 'S', 'Green Road', 'Banani', 'Shamoly',\n",
       "       'West Dhanmondi', 'Mirpur', 'Floor', 'Khilkhat', 'A', 'Khilgaon',\n",
       "       'VIP Road', 'Uttara Model Town', 'Elephant Road', 'Mohammadpur',\n",
       "       'GC', 'baridhara pragati Sharani', 'Mohkhali', 'Tejgaon',\n",
       "       'New DOHS Mohakhali', 'Gulshan', 'DOHS Mohakhali', 'Darussalam',\n",
       "       'Cantonment', '', 'New DOHS', 'Sonargaon Road', 'West Panthapath',\n",
       "       'Mohammedpur', 'Green road', 'Rajarbag', 'Area', 'West Panthapoth',\n",
       "       'Zigatola', 'Shangshad Avenue'], dtype=object)"
      ]
     },
     "execution_count": 157,
     "metadata": {},
     "output_type": "execute_result"
    }
   ],
   "source": [
    "df[\"thana\"].unique()"
   ]
  },
  {
   "cell_type": "code",
   "execution_count": 159,
   "id": "fc62fb46-c865-4753-82ab-daa0013cc356",
   "metadata": {},
   "outputs": [
    {
     "data": {
      "text/html": [
       "<div>\n",
       "<style scoped>\n",
       "    .dataframe tbody tr th:only-of-type {\n",
       "        vertical-align: middle;\n",
       "    }\n",
       "\n",
       "    .dataframe tbody tr th {\n",
       "        vertical-align: top;\n",
       "    }\n",
       "\n",
       "    .dataframe thead th {\n",
       "        text-align: right;\n",
       "    }\n",
       "</style>\n",
       "<table border=\"1\" class=\"dataframe\">\n",
       "  <thead>\n",
       "    <tr style=\"text-align: right;\">\n",
       "      <th></th>\n",
       "      <th>iab_id</th>\n",
       "      <th>company_name</th>\n",
       "      <th>email</th>\n",
       "      <th>office_address</th>\n",
       "      <th>rating</th>\n",
       "      <th>website</th>\n",
       "      <th>establish_year</th>\n",
       "      <th>contact</th>\n",
       "      <th>name_of_proprietor</th>\n",
       "      <th>lab_id</th>\n",
       "      <th>designation</th>\n",
       "      <th>iab_member_architect</th>\n",
       "      <th>architectural_graduate</th>\n",
       "      <th>total_member</th>\n",
       "      <th>rating_status</th>\n",
       "      <th>thana</th>\n",
       "    </tr>\n",
       "  </thead>\n",
       "  <tbody>\n",
       "    <tr>\n",
       "      <th>11</th>\n",
       "      <td>IAB-RP-T04</td>\n",
       "      <td>ARCHIWORKS CONSULTANTS</td>\n",
       "      <td>mail@archsel.com</td>\n",
       "      <td>34/KA, Shyamoli Pisiculture H/S, Dhaka-1207</td>\n",
       "      <td>4.7</td>\n",
       "      <td>www.thalbd.com</td>\n",
       "      <td>2009</td>\n",
       "      <td>NaN</td>\n",
       "      <td>Ar. Imtiaz Farid Chowdhury</td>\n",
       "      <td>C-036</td>\n",
       "      <td>Chief Architect</td>\n",
       "      <td>2</td>\n",
       "      <td>6</td>\n",
       "      <td>8</td>\n",
       "      <td>Rated</td>\n",
       "      <td>S</td>\n",
       "    </tr>\n",
       "    <tr>\n",
       "      <th>31</th>\n",
       "      <td>IAB-RP-S06</td>\n",
       "      <td>ARCHITECTS &amp; ASSOCIATES LTD</td>\n",
       "      <td>aupee0061@gmail.com</td>\n",
       "      <td>House-60/A, Road-7/A, Dhanmondi R/A, Dhaka-1209</td>\n",
       "      <td>NaN</td>\n",
       "      <td>NaN</td>\n",
       "      <td>0</td>\n",
       "      <td>+88 01815258257</td>\n",
       "      <td>Ar. Mohammad Mahbub Hossain</td>\n",
       "      <td>H-149</td>\n",
       "      <td>Managing Partner</td>\n",
       "      <td>4</td>\n",
       "      <td>0</td>\n",
       "      <td>4</td>\n",
       "      <td>Not Rated</td>\n",
       "      <td>A</td>\n",
       "    </tr>\n",
       "    <tr>\n",
       "      <th>47</th>\n",
       "      <td>IAB-RP-P03</td>\n",
       "      <td>DESIGN VISION ASSOCIATES LTD</td>\n",
       "      <td>designcell.cell@gmail.com</td>\n",
       "      <td>75 Indera Road, Metro Garden, Ground Floor, F...</td>\n",
       "      <td>3.8</td>\n",
       "      <td>www.pulbd.com</td>\n",
       "      <td>1998</td>\n",
       "      <td>+88-02- 8150612</td>\n",
       "      <td>Ar. Arif Hasan</td>\n",
       "      <td>H-136</td>\n",
       "      <td>CEO</td>\n",
       "      <td>1</td>\n",
       "      <td>3</td>\n",
       "      <td>4</td>\n",
       "      <td>Rated</td>\n",
       "      <td>GC</td>\n",
       "    </tr>\n",
       "    <tr>\n",
       "      <th>51</th>\n",
       "      <td>IAB-RP-N03</td>\n",
       "      <td>DIAGONAL ARCHITECTS</td>\n",
       "      <td>dcon.design@gmail.com</td>\n",
       "      <td>6/10, 1st Floor, Lalmatia, Block?A, Dhaka</td>\n",
       "      <td>4.3</td>\n",
       "      <td>www.nakshabid.com</td>\n",
       "      <td>2014</td>\n",
       "      <td></td>\n",
       "      <td>Ar. Abu Anas Faisal</td>\n",
       "      <td>F-012</td>\n",
       "      <td>Partner</td>\n",
       "      <td>3</td>\n",
       "      <td>3</td>\n",
       "      <td>6</td>\n",
       "      <td>Rated</td>\n",
       "      <td>A</td>\n",
       "    </tr>\n",
       "    <tr>\n",
       "      <th>52</th>\n",
       "      <td>IAB-RP-N02</td>\n",
       "      <td>DOT ARCHITECTS</td>\n",
       "      <td>rashed@dehsarworks.com</td>\n",
       "      <td>Apt?LV8, House?10, Road?6/A, Dhanmondi R/A, D...</td>\n",
       "      <td>NaN</td>\n",
       "      <td>NaN</td>\n",
       "      <td>2014</td>\n",
       "      <td>NaN</td>\n",
       "      <td>Ar. Rashed Hassan Chowdhury</td>\n",
       "      <td>C-069</td>\n",
       "      <td>Principal Architect</td>\n",
       "      <td>4</td>\n",
       "      <td>5</td>\n",
       "      <td>9</td>\n",
       "      <td>Not Rated</td>\n",
       "      <td>A</td>\n",
       "    </tr>\n",
       "    <tr>\n",
       "      <th>55</th>\n",
       "      <td>IAB-RP-M02</td>\n",
       "      <td>DWm4 ARCHITECTS</td>\n",
       "      <td>info@dwg?office.com</td>\n",
       "      <td>House?56,Road?27,Apt?1 C1, Dhanmond R/A, Dhak...</td>\n",
       "      <td>4.5</td>\n",
       "      <td>www.maatrik.net</td>\n",
       "      <td>1995</td>\n",
       "      <td>NaN</td>\n",
       "      <td>Ar. Naheed Farzana</td>\n",
       "      <td>F-010</td>\n",
       "      <td>Managing Partner</td>\n",
       "      <td>3</td>\n",
       "      <td>2</td>\n",
       "      <td>5</td>\n",
       "      <td>Rated</td>\n",
       "      <td>A</td>\n",
       "    </tr>\n",
       "    <tr>\n",
       "      <th>59</th>\n",
       "      <td>IAB-RP-K03</td>\n",
       "      <td>ECLIPTIC</td>\n",
       "      <td>esl_arch@yahoo.com</td>\n",
       "      <td>86 Laboratory Road, Dhanmondi R/A, Dhaka?1205</td>\n",
       "      <td>5.0</td>\n",
       "      <td>https://www.facebook.com/K2AHArchitects</td>\n",
       "      <td>2009</td>\n",
       "      <td>+88-02-9660876, 9660851</td>\n",
       "      <td>Ar. Moid Ul Ahsan</td>\n",
       "      <td>A-028</td>\n",
       "      <td>Managing Director</td>\n",
       "      <td>6</td>\n",
       "      <td>9</td>\n",
       "      <td>15</td>\n",
       "      <td>Rated</td>\n",
       "      <td>A</td>\n",
       "    </tr>\n",
       "    <tr>\n",
       "      <th>66</th>\n",
       "      <td>IAB-RP-I06</td>\n",
       "      <td>GENESIS ARCHITECTS</td>\n",
       "      <td>gakhan0306@yahoo.com</td>\n",
       "      <td>5A, 5 th Floor, House?99, Road?11/A, Dhanmond...</td>\n",
       "      <td>5.0</td>\n",
       "      <td>www.facebook.com/insightarch</td>\n",
       "      <td>2017</td>\n",
       "      <td>NaN</td>\n",
       "      <td>Ar. Ghausul Alam Khan</td>\n",
       "      <td>K-027</td>\n",
       "      <td>CEO/Proprietor</td>\n",
       "      <td>1</td>\n",
       "      <td>4</td>\n",
       "      <td>5</td>\n",
       "      <td>Rated</td>\n",
       "      <td>A</td>\n",
       "    </tr>\n",
       "    <tr>\n",
       "      <th>90</th>\n",
       "      <td>IAB-RP-D06</td>\n",
       "      <td>PRACHEE STHAPATI</td>\n",
       "      <td>nakshabid@gmail.com</td>\n",
       "      <td>8, Kemal Ataturk Avenue, ABC House (5th Floor...</td>\n",
       "      <td>4.8</td>\n",
       "      <td>NaN</td>\n",
       "      <td>2008</td>\n",
       "      <td>+88 01819221011, +88 02-9845080</td>\n",
       "      <td>Ar. Bayejid Mahbub Khondker</td>\n",
       "      <td>K-077</td>\n",
       "      <td>Principal Architect</td>\n",
       "      <td>0</td>\n",
       "      <td>0</td>\n",
       "      <td>0</td>\n",
       "      <td>Rated</td>\n",
       "      <td>A</td>\n",
       "    </tr>\n",
       "    <tr>\n",
       "      <th>123</th>\n",
       "      <td>IAB-RP-A19</td>\n",
       "      <td>SILVERBRICKS</td>\n",
       "      <td>studiodhakaltd@gmail.com</td>\n",
       "      <td>House?91/1, Road?11/A, Dhanmondi R/A, Dhaka?1205</td>\n",
       "      <td>NaN</td>\n",
       "      <td>www.archpmc.com</td>\n",
       "      <td>2008</td>\n",
       "      <td>NaN</td>\n",
       "      <td>Ar. Muhammad Moniruzzaman</td>\n",
       "      <td>M-086</td>\n",
       "      <td>Managing Director</td>\n",
       "      <td>4</td>\n",
       "      <td>7</td>\n",
       "      <td>11</td>\n",
       "      <td>Not Rated</td>\n",
       "      <td>A</td>\n",
       "    </tr>\n",
       "    <tr>\n",
       "      <th>129</th>\n",
       "      <td>IAB-RP-A13</td>\n",
       "      <td>TRIOTECT &amp; ASSOCIATES LTD.</td>\n",
       "      <td>mail@tknrk.com</td>\n",
       "      <td>Laboni?2, Flat?B1 &amp; C1, House?24, Road?9/A, D...</td>\n",
       "      <td>4.6</td>\n",
       "      <td>https://3pointsconsultant.com/</td>\n",
       "      <td>2018</td>\n",
       "      <td>NaN</td>\n",
       "      <td>Ar. Nurur Rahman Khan</td>\n",
       "      <td>K-049</td>\n",
       "      <td>Architect Partner</td>\n",
       "      <td>14</td>\n",
       "      <td>12</td>\n",
       "      <td>26</td>\n",
       "      <td>Rated</td>\n",
       "      <td>A</td>\n",
       "    </tr>\n",
       "  </tbody>\n",
       "</table>\n",
       "</div>"
      ],
      "text/plain": [
       "         iab_id                   company_name                      email  \\\n",
       "11   IAB-RP-T04        ARCHIWORKS CONSULTANTS            mail@archsel.com   \n",
       "31   IAB-RP-S06   ARCHITECTS & ASSOCIATES LTD         aupee0061@gmail.com   \n",
       "47   IAB-RP-P03  DESIGN VISION ASSOCIATES LTD   designcell.cell@gmail.com   \n",
       "51   IAB-RP-N03           DIAGONAL ARCHITECTS       dcon.design@gmail.com   \n",
       "52   IAB-RP-N02                DOT ARCHITECTS      rashed@dehsarworks.com   \n",
       "55   IAB-RP-M02               DWm4 ARCHITECTS         info@dwg?office.com   \n",
       "59   IAB-RP-K03                      ECLIPTIC          esl_arch@yahoo.com   \n",
       "66   IAB-RP-I06            GENESIS ARCHITECTS        gakhan0306@yahoo.com   \n",
       "90   IAB-RP-D06              PRACHEE STHAPATI         nakshabid@gmail.com   \n",
       "123  IAB-RP-A19                  SILVERBRICKS    studiodhakaltd@gmail.com   \n",
       "129  IAB-RP-A13    TRIOTECT & ASSOCIATES LTD.              mail@tknrk.com   \n",
       "\n",
       "                                        office_address  rating  \\\n",
       "11         34/KA, Shyamoli Pisiculture H/S, Dhaka-1207     4.7   \n",
       "31     House-60/A, Road-7/A, Dhanmondi R/A, Dhaka-1209     NaN   \n",
       "47    75 Indera Road, Metro Garden, Ground Floor, F...     3.8   \n",
       "51           6/10, 1st Floor, Lalmatia, Block?A, Dhaka     4.3   \n",
       "52    Apt?LV8, House?10, Road?6/A, Dhanmondi R/A, D...     NaN   \n",
       "55    House?56,Road?27,Apt?1 C1, Dhanmond R/A, Dhak...     4.5   \n",
       "59       86 Laboratory Road, Dhanmondi R/A, Dhaka?1205     5.0   \n",
       "66    5A, 5 th Floor, House?99, Road?11/A, Dhanmond...     5.0   \n",
       "90    8, Kemal Ataturk Avenue, ABC House (5th Floor...     4.8   \n",
       "123   House?91/1, Road?11/A, Dhanmondi R/A, Dhaka?1205     NaN   \n",
       "129   Laboni?2, Flat?B1 & C1, House?24, Road?9/A, D...     4.6   \n",
       "\n",
       "                                       website  establish_year  \\\n",
       "11                             www.thalbd.com             2009   \n",
       "31                                         NaN               0   \n",
       "47                              www.pulbd.com             1998   \n",
       "51                           www.nakshabid.com            2014   \n",
       "52                                         NaN            2014   \n",
       "55                             www.maatrik.net            1995   \n",
       "59    https://www.facebook.com/K2AHArchitects             2009   \n",
       "66                www.facebook.com/insightarch            2017   \n",
       "90                                         NaN            2008   \n",
       "123                           www.archpmc.com             2008   \n",
       "129             https://3pointsconsultant.com/            2018   \n",
       "\n",
       "                              contact            name_of_proprietor lab_id  \\\n",
       "11                                NaN    Ar. Imtiaz Farid Chowdhury  C-036   \n",
       "31                    +88 01815258257  Ar. Mohammad Mahbub Hossain   H-149   \n",
       "47                    +88-02- 8150612               Ar. Arif Hasan   H-136   \n",
       "51                                             Ar. Abu Anas Faisal   F-012   \n",
       "52                                NaN  Ar. Rashed Hassan Chowdhury   C-069   \n",
       "55                                NaN           Ar. Naheed Farzana   F-010   \n",
       "59            +88-02-9660876, 9660851            Ar. Moid Ul Ahsan   A-028   \n",
       "66                                NaN        Ar. Ghausul Alam Khan   K-027   \n",
       "90    +88 01819221011, +88 02-9845080  Ar. Bayejid Mahbub Khondker   K-077   \n",
       "123                               NaN    Ar. Muhammad Moniruzzaman   M-086   \n",
       "129                               NaN        Ar. Nurur Rahman Khan   K-049   \n",
       "\n",
       "              designation  iab_member_architect  architectural_graduate  \\\n",
       "11        Chief Architect                     2                       6   \n",
       "31      Managing Partner                      4                       0   \n",
       "47                    CEO                     1                       3   \n",
       "51                Partner                     3                       3   \n",
       "52    Principal Architect                     4                       5   \n",
       "55      Managing Partner                      3                       2   \n",
       "59      Managing Director                     6                       9   \n",
       "66         CEO/Proprietor                     1                       4   \n",
       "90    Principal Architect                     0                       0   \n",
       "123     Managing Director                     4                       7   \n",
       "129    Architect Partner                     14                      12   \n",
       "\n",
       "     total_member rating_status thana  \n",
       "11              8         Rated     S  \n",
       "31              4     Not Rated     A  \n",
       "47              4         Rated    GC  \n",
       "51              6         Rated     A  \n",
       "52              9     Not Rated     A  \n",
       "55              5         Rated     A  \n",
       "59             15         Rated     A  \n",
       "66              5         Rated     A  \n",
       "90              0         Rated     A  \n",
       "123            11     Not Rated     A  \n",
       "129            26         Rated     A  "
      ]
     },
     "execution_count": 159,
     "metadata": {},
     "output_type": "execute_result"
    }
   ],
   "source": [
    "df[df['thana'].isin(['A', 'S', 'GC'])]"
   ]
  },
  {
   "cell_type": "code",
   "execution_count": 161,
   "id": "be75f680-b31e-46af-8c16-42a1979876ff",
   "metadata": {},
   "outputs": [
    {
     "data": {
      "text/plain": [
       "(143, 16)"
      ]
     },
     "execution_count": 161,
     "metadata": {},
     "output_type": "execute_result"
    }
   ],
   "source": [
    "df.shape"
   ]
  },
  {
   "cell_type": "code",
   "execution_count": 163,
   "id": "78f4c59b-4a39-4f5a-a18e-9c3b5d2a192d",
   "metadata": {},
   "outputs": [],
   "source": [
    "df.iat[11, 15] = 'Shyamoli'"
   ]
  },
  {
   "cell_type": "code",
   "execution_count": 165,
   "id": "16d58d10-c002-4294-9793-d5e55bf0b6e7",
   "metadata": {},
   "outputs": [],
   "source": [
    "df[\"thana\"] = df[\"thana\"].str.replace(\"S\", \"Shyamoli\")"
   ]
  },
  {
   "cell_type": "code",
   "execution_count": 167,
   "id": "72c06f99-bd1a-4776-ae09-f8e11eb9d79f",
   "metadata": {},
   "outputs": [],
   "source": [
    "df[\"thana\"] = df[\"thana\"].str.replace(\"A\", \"Dhanmondi\")"
   ]
  },
  {
   "cell_type": "code",
   "execution_count": 169,
   "id": "4b422982-a09c-48af-9908-49c453bf23b9",
   "metadata": {},
   "outputs": [],
   "source": [
    "df[\"thana\"] = df[\"thana\"].str.replace(\"GC\", \"Metro Garden\")"
   ]
  },
  {
   "cell_type": "code",
   "execution_count": 171,
   "id": "13f50e49-7040-47a8-8346-b39a7ab38e7b",
   "metadata": {},
   "outputs": [
    {
     "data": {
      "text/plain": [
       "iab_id                    30\n",
       "company_name              30\n",
       "email                     31\n",
       "office_address            29\n",
       "rating                    21\n",
       "website                   16\n",
       "establish_year            32\n",
       "contact                   18\n",
       "name_of_proprietor        31\n",
       "lab_id                    31\n",
       "designation               31\n",
       "iab_member_architect      32\n",
       "architectural_graduate    32\n",
       "total_member              32\n",
       "rating_status             32\n",
       "thana                     32\n",
       "dtype: int64"
      ]
     },
     "execution_count": 171,
     "metadata": {},
     "output_type": "execute_result"
    }
   ],
   "source": [
    "df[df['thana'].isin(['-'])].count()"
   ]
  },
  {
   "cell_type": "code",
   "execution_count": 263,
   "id": "4e6c0070-b728-42c9-9cf3-136af3b9d2fe",
   "metadata": {},
   "outputs": [
    {
     "data": {
      "text/html": [
       "<div>\n",
       "<style scoped>\n",
       "    .dataframe tbody tr th:only-of-type {\n",
       "        vertical-align: middle;\n",
       "    }\n",
       "\n",
       "    .dataframe tbody tr th {\n",
       "        vertical-align: top;\n",
       "    }\n",
       "\n",
       "    .dataframe thead th {\n",
       "        text-align: right;\n",
       "    }\n",
       "</style>\n",
       "<table border=\"1\" class=\"dataframe\">\n",
       "  <thead>\n",
       "    <tr style=\"text-align: right;\">\n",
       "      <th></th>\n",
       "      <th>iab_id</th>\n",
       "      <th>company_name</th>\n",
       "      <th>email</th>\n",
       "      <th>office_address</th>\n",
       "      <th>rating</th>\n",
       "      <th>website</th>\n",
       "      <th>establish_year</th>\n",
       "      <th>contact</th>\n",
       "      <th>name_of_proprietor</th>\n",
       "      <th>lab_id</th>\n",
       "      <th>designation</th>\n",
       "      <th>iab_member_architect</th>\n",
       "      <th>architectural_graduate</th>\n",
       "      <th>total_member</th>\n",
       "      <th>rating_status</th>\n",
       "      <th>thana</th>\n",
       "    </tr>\n",
       "  </thead>\n",
       "  <tbody>\n",
       "  </tbody>\n",
       "</table>\n",
       "</div>"
      ],
      "text/plain": [
       "Empty DataFrame\n",
       "Columns: [iab_id, company_name, email, office_address, rating, website, establish_year, contact, name_of_proprietor, lab_id, designation, iab_member_architect, architectural_graduate, total_member, rating_status, thana]\n",
       "Index: []"
      ]
     },
     "execution_count": 263,
     "metadata": {},
     "output_type": "execute_result"
    }
   ],
   "source": [
    "df[df['thana'].isin(['-'])]"
   ]
  },
  {
   "cell_type": "code",
   "execution_count": 175,
   "id": "787ae147-c53d-4387-a9e8-fbf87437ebc8",
   "metadata": {},
   "outputs": [],
   "source": [
    "df.iloc[5, 15] = 'Dhanmondi'"
   ]
  },
  {
   "cell_type": "code",
   "execution_count": 177,
   "id": "14d7b181-9c55-4a49-bc62-d27acc8e8c09",
   "metadata": {},
   "outputs": [],
   "source": [
    "df.iloc[7, 15] = 'Banani'"
   ]
  },
  {
   "cell_type": "code",
   "execution_count": 239,
   "id": "8ffba1cc-fbed-4ea9-a10a-7bb64a8bd35b",
   "metadata": {},
   "outputs": [],
   "source": [
    "df.loc[10, \"thana\"] = \"Gulshan\""
   ]
  },
  {
   "cell_type": "code",
   "execution_count": 179,
   "id": "a2ef7feb-dec2-4a57-b862-ba021ba86648",
   "metadata": {},
   "outputs": [],
   "source": [
    "df.loc[14, \"thana\"] = \"Jamal Khan Road\""
   ]
  },
  {
   "cell_type": "code",
   "execution_count": 181,
   "id": "732fc9f0-87d1-4d24-bb15-17badf88d7ed",
   "metadata": {},
   "outputs": [],
   "source": [
    "df.loc[16, 'thana'] = 'Panchlish'"
   ]
  },
  {
   "cell_type": "code",
   "execution_count": 183,
   "id": "c30c1179-24a8-445c-a7f1-c4019612745a",
   "metadata": {},
   "outputs": [],
   "source": [
    "df.loc[17, 'thana'] = 'Gulshan'"
   ]
  },
  {
   "cell_type": "code",
   "execution_count": 185,
   "id": "fb4c01b4-ed46-4164-af37-2f3c77077788",
   "metadata": {},
   "outputs": [],
   "source": [
    "df.loc[18, 'thana'] = 'Gulshan'"
   ]
  },
  {
   "cell_type": "code",
   "execution_count": 187,
   "id": "f88c7032-485d-4106-bece-242b1c245937",
   "metadata": {},
   "outputs": [],
   "source": [
    "df.loc[23, 'thana'] = 'Gulshan'"
   ]
  },
  {
   "cell_type": "code",
   "execution_count": 189,
   "id": "df448c8a-6800-47cf-84df-cc2965205128",
   "metadata": {},
   "outputs": [],
   "source": [
    "df.loc[28, 'thana'] = 'Green Road'"
   ]
  },
  {
   "cell_type": "code",
   "execution_count": 191,
   "id": "1ef946e0-dea1-4944-b2fc-7930ef8d30a2",
   "metadata": {},
   "outputs": [],
   "source": [
    "df.loc[33, 'thana'] = 'Gulshan'"
   ]
  },
  {
   "cell_type": "code",
   "execution_count": 193,
   "id": "05f127cd-3d04-4be4-a026-eb9b8b0f2eff",
   "metadata": {},
   "outputs": [],
   "source": [
    "df.loc[39, 'thana'] = 'Banani'"
   ]
  },
  {
   "cell_type": "code",
   "execution_count": 195,
   "id": "1a01d79f-e675-417a-9f66-a7f7f9b173a8",
   "metadata": {},
   "outputs": [],
   "source": [
    "df.loc[43, 'thana'] = 'Gulshan'"
   ]
  },
  {
   "cell_type": "code",
   "execution_count": 197,
   "id": "7174924d-973f-4ccc-910d-eee2888c7e56",
   "metadata": {},
   "outputs": [],
   "source": [
    "df.loc[44, 'thana'] = 'Gulshan'"
   ]
  },
  {
   "cell_type": "code",
   "execution_count": 199,
   "id": "60f7b772-aaf9-457b-b4d3-fe1dc6f21bc9",
   "metadata": {},
   "outputs": [],
   "source": [
    "df.loc[48, 'thana'] = 'Uttara'"
   ]
  },
  {
   "cell_type": "code",
   "execution_count": 201,
   "id": "a1788952-9dc4-47d9-bbb3-5a4de2b04fdb",
   "metadata": {},
   "outputs": [],
   "source": [
    "df.loc[50, 'thana'] = 'Banani'"
   ]
  },
  {
   "cell_type": "code",
   "execution_count": 203,
   "id": "961e6a97-0b9a-4187-a671-8b13d158a94c",
   "metadata": {},
   "outputs": [],
   "source": [
    "df.loc[61, 'thana'] = 'Gulshan'"
   ]
  },
  {
   "cell_type": "code",
   "execution_count": 205,
   "id": "bf21f5fc-2052-4088-be98-4886495681bc",
   "metadata": {},
   "outputs": [],
   "source": [
    "df.loc[65, 'thana'] = 'Jamal Khan Road'"
   ]
  },
  {
   "cell_type": "code",
   "execution_count": 207,
   "id": "1774a84c-08cd-45f8-9061-3162ff64ea22",
   "metadata": {},
   "outputs": [],
   "source": [
    "df.loc[67, 'thana'] = 'Gazipur'"
   ]
  },
  {
   "cell_type": "code",
   "execution_count": 209,
   "id": "0867f98d-2238-4233-b9ad-d2ba36a68bef",
   "metadata": {},
   "outputs": [],
   "source": [
    "df.loc[78, 'thana'] = 'Gulshan'"
   ]
  },
  {
   "cell_type": "code",
   "execution_count": 211,
   "id": "0c1c8799-f7cb-4356-8481-9c90c392f5d6",
   "metadata": {},
   "outputs": [],
   "source": [
    "df.iloc[81, 15] = 'Dhanmondi'"
   ]
  },
  {
   "cell_type": "code",
   "execution_count": 213,
   "id": "3ce19e55-2c8c-43af-bf74-8ed73ae27e5f",
   "metadata": {},
   "outputs": [],
   "source": [
    "df.loc[87, 'thana'] = 'Uttara'"
   ]
  },
  {
   "cell_type": "code",
   "execution_count": 215,
   "id": "197080cf-9a7f-45de-9ee2-c33d4c5c1182",
   "metadata": {},
   "outputs": [],
   "source": [
    "df.loc[91, 'thana'] = 'Elephant Road'"
   ]
  },
  {
   "cell_type": "code",
   "execution_count": 217,
   "id": "39a121fb-3fb2-4f38-89f6-4386e34945e9",
   "metadata": {},
   "outputs": [],
   "source": [
    "df.loc[93, 'thana'] = 'Gulshan'"
   ]
  },
  {
   "cell_type": "code",
   "execution_count": 219,
   "id": "7cfaf264-8165-4d22-8369-5fdfb9dfdbf9",
   "metadata": {},
   "outputs": [],
   "source": [
    "df.loc[95, 'thana'] = 'Agrabad'"
   ]
  },
  {
   "cell_type": "code",
   "execution_count": 221,
   "id": "1ed18887-ad71-4c89-9bcc-fac898be3758",
   "metadata": {},
   "outputs": [],
   "source": [
    "df.loc[100, 'thana'] = 'Gulshan'"
   ]
  },
  {
   "cell_type": "code",
   "execution_count": 223,
   "id": "bca0993a-105d-4ce2-9617-88937ccbf22f",
   "metadata": {},
   "outputs": [],
   "source": [
    "df.loc[102, 'thana'] = 'Bijay Nagar'"
   ]
  },
  {
   "cell_type": "code",
   "execution_count": 225,
   "id": "950d13ed-2afb-4484-9664-e2de7d7f6f16",
   "metadata": {},
   "outputs": [],
   "source": [
    "df.loc[109, 'thana'] = 'Uttara'"
   ]
  },
  {
   "cell_type": "code",
   "execution_count": 227,
   "id": "5d94db78-c10c-4bb7-9e04-dcb0f64de11d",
   "metadata": {},
   "outputs": [],
   "source": [
    "df.loc[111, 'thana'] = 'Dhanmondi'"
   ]
  },
  {
   "cell_type": "code",
   "execution_count": 229,
   "id": "973067a9-dfe7-4006-ba00-4b2893a02e83",
   "metadata": {},
   "outputs": [],
   "source": [
    "df.loc[115, 'thana'] = 'Jamal Khan Road'"
   ]
  },
  {
   "cell_type": "code",
   "execution_count": 231,
   "id": "1fac751b-026f-49e8-b38f-64afdc38c694",
   "metadata": {},
   "outputs": [],
   "source": [
    "df.loc[125, 'thana'] = 'Khaled Road'"
   ]
  },
  {
   "cell_type": "code",
   "execution_count": 233,
   "id": "e918f75a-a81f-479f-9559-bf8f9d79059e",
   "metadata": {},
   "outputs": [],
   "source": [
    "df.loc[126, 'thana'] = 'Gulshan'"
   ]
  },
  {
   "cell_type": "code",
   "execution_count": 261,
   "id": "45a60829-ea7a-4cbc-8f99-9dcc54939761",
   "metadata": {},
   "outputs": [
    {
     "data": {
      "text/plain": [
       "iab_id                    0\n",
       "company_name              0\n",
       "email                     0\n",
       "office_address            0\n",
       "rating                    0\n",
       "website                   0\n",
       "establish_year            0\n",
       "contact                   0\n",
       "name_of_proprietor        0\n",
       "lab_id                    0\n",
       "designation               0\n",
       "iab_member_architect      0\n",
       "architectural_graduate    0\n",
       "total_member              0\n",
       "rating_status             0\n",
       "thana                     0\n",
       "dtype: int64"
      ]
     },
     "execution_count": 261,
     "metadata": {},
     "output_type": "execute_result"
    }
   ],
   "source": [
    "df[df['thana'].isin(['-'])].count()"
   ]
  },
  {
   "cell_type": "markdown",
   "id": "b8e58a0d-5eed-4977-bb34-727372c9d7d5",
   "metadata": {},
   "source": [
    "# Merge Similar \"thana\" Names "
   ]
  },
  {
   "cell_type": "code",
   "execution_count": 289,
   "id": "c0c8c0bb-3d47-4155-923d-a0c4ed3a711e",
   "metadata": {},
   "outputs": [
    {
     "data": {
      "text/plain": [
       "array(['Khilkhet', 'Uttara', 'Shyamoli', 'Mohakhali', 'Dhanmondi',\n",
       "       'Kalabagan', 'Banani', 'Lalmatia', 'Green Road', 'Jamal Khan Road',\n",
       "       'Panchlish', 'Gulshan', 'Mirpur', 'Khilgaon', 'VIP Road',\n",
       "       'Elephant Road', 'Mohammadpur', 'Metro Garden', 'baridhara',\n",
       "       'Tejgaon', 'Gazipur', 'Darussalam', 'Cantonment', 'Agrabad',\n",
       "       'West Panthapath', 'Bijay Nagar', 'Rajarbag', 'Khaled Road'],\n",
       "      dtype=object)"
      ]
     },
     "execution_count": 289,
     "metadata": {},
     "output_type": "execute_result"
    }
   ],
   "source": [
    "df[\"thana\"].unique()"
   ]
  },
  {
   "cell_type": "code",
   "execution_count": 265,
   "id": "068b9c83-992a-4281-b9f4-a263425aa2a5",
   "metadata": {},
   "outputs": [],
   "source": [
    "df[\"thana\"] = df[\"thana\"].str.replace('Khilkhat','Khilkhet')"
   ]
  },
  {
   "cell_type": "code",
   "execution_count": 281,
   "id": "1d3c42a9-fa5e-4b41-bd79-ce2f073996e3",
   "metadata": {},
   "outputs": [],
   "source": [
    "replacements = {'Green road': 'Green Road', 'West Panthapoth':'West Panthapath','New DOHShyamoli Mohakhali':'Mohakhali'}\n",
    "df[\"thana\"] = df[\"thana\"].replace(replacements)"
   ]
  },
  {
   "cell_type": "code",
   "execution_count": 275,
   "id": "86cb57c5-6027-47b5-8954-ed13fee8f4c0",
   "metadata": {},
   "outputs": [],
   "source": [
    "replacements = { 'DOHShyamoli Mohakhali': 'Mohakhali', 'New DOHShyamoli':'Shyamoli', 'Shyamolionargaon Road': 'Shyamoli'}\n",
    "df[\"thana\"] = df[\"thana\"].replace(replacements)"
   ]
  },
  {
   "cell_type": "code",
   "execution_count": 269,
   "id": "3fb5a90c-2b94-454c-a17f-8ffc3f9564ac",
   "metadata": {},
   "outputs": [],
   "source": [
    "replacements = { 'baridhara pragati Shyamoliharani': 'baridhara', 'Mohammedpur':'Mohammadpur', 'Dhanmondirea':'Dhanmondi', 'Shyamolihamoly': 'Shyamoli'}\n",
    "df[\"thana\"] = df[\"thana\"].replace(replacements)"
   ]
  },
  {
   "cell_type": "code",
   "execution_count": 271,
   "id": "c5fb2785-726b-4ce7-b8bb-0dfa9d351fa5",
   "metadata": {},
   "outputs": [],
   "source": [
    "replacements = {'Uttara Model Town': 'Uttara', 'Shyamolihyamoli': 'Shyamoli', 'Mohkhali':'Mohakhali', 'West Dhanmondi':'Dhanmondi'}\n",
    "df[\"thana\"] = df[\"thana\"].replace(replacements)"
   ]
  },
  {
   "cell_type": "markdown",
   "id": "65455a63-c5e2-4c70-96e4-96b7a5338db5",
   "metadata": {},
   "source": [
    "# Remove Key Column's Row's that is null (\"iab_id, \"company_name\", \"office_address\")"
   ]
  },
  {
   "cell_type": "code",
   "execution_count": 245,
   "id": "050477f2-2e8b-4f03-9e44-66d02a180108",
   "metadata": {},
   "outputs": [],
   "source": [
    "df = df.dropna(subset=['iab_id'])"
   ]
  },
  {
   "cell_type": "code",
   "execution_count": 247,
   "id": "451743d5-c07f-42d3-8f8a-a6ce9bdef378",
   "metadata": {},
   "outputs": [
    {
     "data": {
      "text/plain": [
       "False"
      ]
     },
     "execution_count": 247,
     "metadata": {},
     "output_type": "execute_result"
    }
   ],
   "source": [
    "df[\"iab_id\"].isnull().any()"
   ]
  },
  {
   "cell_type": "code",
   "execution_count": 249,
   "id": "d621c207-3825-40c8-851f-c9df663b0c7c",
   "metadata": {},
   "outputs": [],
   "source": [
    "df = df.dropna(subset=['company_name'])"
   ]
  },
  {
   "cell_type": "code",
   "execution_count": 251,
   "id": "e71c5325-346f-481f-ad4f-99318b8e4577",
   "metadata": {},
   "outputs": [
    {
     "data": {
      "text/plain": [
       "False"
      ]
     },
     "execution_count": 251,
     "metadata": {},
     "output_type": "execute_result"
    }
   ],
   "source": [
    "df['company_name'].isnull().any()"
   ]
  },
  {
   "cell_type": "code",
   "execution_count": 253,
   "id": "ccbf37ad-c8ad-4d15-a9b0-29bbeeb3efd8",
   "metadata": {},
   "outputs": [
    {
     "data": {
      "text/plain": [
       "1"
      ]
     },
     "execution_count": 253,
     "metadata": {},
     "output_type": "execute_result"
    }
   ],
   "source": [
    "df[\"office_address\"].isnull().any().sum()"
   ]
  },
  {
   "cell_type": "code",
   "execution_count": 255,
   "id": "4620016f-4c95-4224-b0ba-11ff5104b65a",
   "metadata": {},
   "outputs": [],
   "source": [
    "df= df.dropna(subset=[\"office_address\"])"
   ]
  },
  {
   "cell_type": "code",
   "execution_count": 257,
   "id": "dc542c3f-fc5e-40bf-9733-b1f4390b17c3",
   "metadata": {},
   "outputs": [
    {
     "data": {
      "text/plain": [
       "False"
      ]
     },
     "execution_count": 257,
     "metadata": {},
     "output_type": "execute_result"
    }
   ],
   "source": [
    "df[\"office_address\"].isnull().any()"
   ]
  },
  {
   "cell_type": "code",
   "execution_count": 259,
   "id": "816d4625-dfc5-46c6-b3a1-3dc5704c5405",
   "metadata": {},
   "outputs": [
    {
     "data": {
      "text/plain": [
       "(134, 16)"
      ]
     },
     "execution_count": 259,
     "metadata": {},
     "output_type": "execute_result"
    }
   ],
   "source": [
    "df.shape"
   ]
  },
  {
   "cell_type": "markdown",
   "id": "306aabbd-5ce3-47a5-8249-b382d4fac8d6",
   "metadata": {},
   "source": [
    "# Create Establish Year Group"
   ]
  },
  {
   "cell_type": "code",
   "execution_count": 301,
   "id": "dd5de80b-07d1-4555-9475-55c8c2e0b2b9",
   "metadata": {},
   "outputs": [
    {
     "data": {
      "text/plain": [
       "array([1996, 2005, 2008, 2006, 2016, 1982, 2012, 2010, 1998, 2009, 1997,\n",
       "       2004,    0, 2018, 2014, 2013, 2017, 1985, 1988, 1986, 1978, 1992,\n",
       "       1977, 2015, 1995, 1989, 2019, 1999, 2007, 2011, 2003, 2020, 2000,\n",
       "       1984, 1990, 2001, 1993, 2002])"
      ]
     },
     "execution_count": 301,
     "metadata": {},
     "output_type": "execute_result"
    }
   ],
   "source": [
    "df[\"establish_year\"].unique()"
   ]
  },
  {
   "cell_type": "code",
   "execution_count": 303,
   "id": "56f5408b-22b2-417f-8eb6-08e54dad0b07",
   "metadata": {},
   "outputs": [],
   "source": [
    "bins = [1975, 1980, 1985, 1990, 1995, 2000, 2005, 2010, 2015, 2020, 2025]\n",
    "labels = ['1975-1979', '1980-1984', '1985-1989', '1990-1994', '1995-1999', \n",
    "          '2000-2004', '2005-2009', '2010-2014', '2015-2019', '2020-2024']\n",
    "df['year_group'] = pd.cut(df['establish_year'], bins=bins, labels=labels, right=False)"
   ]
  },
  {
   "cell_type": "markdown",
   "id": "cafc08cc-88c7-4de0-857e-4973cdeb5f22",
   "metadata": {},
   "source": [
    "# End of Data Cleaning"
   ]
  },
  {
   "cell_type": "code",
   "execution_count": 349,
   "id": "434163b2-4e40-4508-b1a2-7823eb7d578d",
   "metadata": {},
   "outputs": [
    {
     "data": {
      "text/plain": [
       "Index(['iab_id', 'company_name', 'email', 'office_address', 'rating',\n",
       "       'website', 'establish_year', 'contact', 'name_of_proprietor', 'lab_id',\n",
       "       'designation', 'iab_member_architect', 'architectural_graduate',\n",
       "       'total_member', 'rating_status', 'thana', 'year_group',\n",
       "       'website_status'],\n",
       "      dtype='object')"
      ]
     },
     "execution_count": 349,
     "metadata": {},
     "output_type": "execute_result"
    }
   ],
   "source": [
    "df.columns"
   ]
  },
  {
   "cell_type": "markdown",
   "id": "7b983e09-09e7-4ebe-a1fd-2eebf4cdd483",
   "metadata": {},
   "source": [
    "# Data Visualization Part"
   ]
  },
  {
   "cell_type": "markdown",
   "id": "fb0bddb5-6be7-45cb-8f6e-21560dcabca6",
   "metadata": {},
   "source": [
    "# Top 10 Designation Type"
   ]
  },
  {
   "cell_type": "code",
   "execution_count": 355,
   "id": "56b69cc3-bd43-4645-b096-587f0df4dd09",
   "metadata": {},
   "outputs": [
    {
     "name": "stdout",
     "output_type": "stream",
     "text": [
      "designation\n",
      " Principal Architect    40\n",
      " Managing Director      30\n",
      " CEO                    13\n",
      " Managing Partner       13\n",
      " Proprietor             11\n",
      " Partner                 8\n",
      " Partner Architect       5\n",
      " Chairman                5\n",
      " Architect               3\n",
      " Founder                 1\n",
      "Name: count, dtype: int64\n"
     ]
    }
   ],
   "source": [
    "designation_counts = df[\"designation\"].value_counts().nlargest(10)\n",
    "print(designation_counts)"
   ]
  },
  {
   "cell_type": "code",
   "execution_count": 363,
   "id": "9afa389e-bce8-4913-8754-a1f0a9951730",
   "metadata": {},
   "outputs": [
    {
     "data": {
      "image/png": "[encoded data removed]",
      "text/plain": [
       "<Figure size 1000x600 with 1 Axes>"
      ]
     },
     "metadata": {},
     "output_type": "display_data"
    }
   ],
   "source": [
    "import matplotlib.pyplot as plt\n",
    "plt.style.use('dark_background')\n",
    "plt.figure(figsize=(10,6))\n",
    "plt.bar(designation_counts.index, designation_counts.values, color=\"Blue\")\n",
    "plt.title(\"Designation Type\", color = \"White\")\n",
    "plt.xlabel(\"Designation\", fontsize =14, color=\"White\")\n",
    "plt.ylabel(\"Count\", fontsize = 14, color=\"White\")\n",
    "plt.xticks(rotation =45, ha='right', color = \"white\")\n",
    "plt.yticks(color=\"White\")\n",
    "plt.show()"
   ]
  },
  {
   "cell_type": "markdown",
   "id": "1d307144-e16c-4b74-b815-ef00717f90a3",
   "metadata": {},
   "source": [
    "# Total Company by Thana (Top 10) "
   ]
  },
  {
   "cell_type": "code",
   "execution_count": 369,
   "id": "d8861868-a558-4e17-b741-a1cec6413f17",
   "metadata": {},
   "outputs": [
    {
     "name": "stdout",
     "output_type": "stream",
     "text": [
      "thana\n",
      "Dhanmondi      24\n",
      "Mohakhali      16\n",
      "Banani         14\n",
      "Gulshan        13\n",
      "Uttara         11\n",
      "Shyamoli        9\n",
      "Mohammadpur     7\n",
      "Lalmatia        6\n",
      "Green Road      5\n",
      "Kalabagan       3\n",
      "Name: count, dtype: int64\n"
     ]
    }
   ],
   "source": [
    "thana_count = df[\"thana\"].value_counts().nlargest(10)\n",
    "print(thana_count)"
   ]
  },
  {
   "cell_type": "code",
   "execution_count": 377,
   "id": "f063d725-4d46-459e-a617-696cede968bf",
   "metadata": {},
   "outputs": [
    {
     "data": {
      "image/png": "[encoded data removed]",
      "text/plain": [
       "<Figure size 1000x600 with 1 Axes>"
      ]
     },
     "metadata": {},
     "output_type": "display_data"
    }
   ],
   "source": [
    "plt.style.use('dark_background')\n",
    "plt.figure(figsize=(10,6))\n",
    "plt.bar(thana_count.index, thana_count.values, color =\"Blue\")\n",
    "plt.title(\"Total Company by Thana\", color = \"White\")\n",
    "plt.xlabel(\"Thana Names\", fontsize =14, color = \"white\")\n",
    "plt.ylabel(\"Count\", fontsize =14, color = \"White\")\n",
    "plt.xticks(rotation=45, ha=\"right\", color =\"White\")\n",
    "plt.yticks(color=\"white\")\n",
    "plt.show()"
   ]
  },
  {
   "cell_type": "markdown",
   "id": "7d123168-11fa-4a64-aa1d-59321178b599",
   "metadata": {},
   "source": [
    "# Total Firms by Year Group "
   ]
  },
  {
   "cell_type": "code",
   "execution_count": 383,
   "id": "5d30f2c6-37ec-49b5-8d7d-ce19be6aa345",
   "metadata": {},
   "outputs": [
    {
     "name": "stdout",
     "output_type": "stream",
     "text": [
      "year_group\n",
      "2010-2014    34\n",
      "2005-2009    33\n",
      "1995-1999    18\n",
      "2015-2019    17\n",
      "2000-2004    13\n",
      "1985-1989     4\n",
      "1990-1994     4\n",
      "1975-1979     2\n",
      "1980-1984     2\n",
      "2020-2024     1\n",
      "Name: count, dtype: int64\n"
     ]
    }
   ],
   "source": [
    "year_group_counts = df['year_group'].value_counts()\n",
    "print(year_group_counts)"
   ]
  },
  {
   "cell_type": "code",
   "execution_count": 387,
   "id": "90627cf3-f030-4fc3-917d-6fadccd6736a",
   "metadata": {},
   "outputs": [
    {
     "data": {
      "image/png": "[encoded data removed]",
      "text/plain": [
       "<Figure size 1000x600 with 1 Axes>"
      ]
     },
     "metadata": {},
     "output_type": "display_data"
    }
   ],
   "source": [
    "plt.style.use(\"dark_background\")\n",
    "plt.figure(figsize=(10,6))\n",
    "plt.bar(year_group_counts.index, year_group_counts.values, color=\"Blue\")\n",
    "plt.title(\"Total Firms by Year\", color=\"White\")\n",
    "plt.xlabel(\"Year group\",fontsize=14, color=\"white\")\n",
    "plt.ylabel(\"Total Firms\",fontsize=14, color=\"white\")\n",
    "plt.xticks(rotation = 45, ha = \"right\", color= \"white\")\n",
    "plt.yticks(color= \"White\")\n",
    "plt.show()"
   ]
  },
  {
   "cell_type": "markdown",
   "id": "8ba97723-d155-4d6c-bfe0-9d2e320645d4",
   "metadata": {},
   "source": [
    "# Rating Status Pie chart"
   ]
  },
  {
   "cell_type": "code",
   "execution_count": 389,
   "id": "d2e5c25d-5e4b-4821-ba74-b5652fec1de7",
   "metadata": {},
   "outputs": [
    {
     "name": "stdout",
     "output_type": "stream",
     "text": [
      "rating_status\n",
      "Rated        78\n",
      "Not Rated    56\n",
      "Name: count, dtype: int64\n"
     ]
    }
   ],
   "source": [
    "rating_status_counts = df['rating_status'].value_counts()\n",
    "print(rating_status_counts)"
   ]
  },
  {
   "cell_type": "code",
   "execution_count": 405,
   "id": "29b41dcb-3c21-4e35-90de-6a03a032fd65",
   "metadata": {},
   "outputs": [
    {
     "data": {
      "image/png": "[encoded data removed]",
      "text/plain": [
       "<Figure size 800x800 with 1 Axes>"
      ]
     },
     "metadata": {},
     "output_type": "display_data"
    }
   ],
   "source": [
    "plt.style.use(\"dark_background\")\n",
    "plt.figure(figsize=(8,8))\n",
    "plt.pie(rating_status_counts, labels=rating_status_counts.index, autopct='%1.1f%%', colors=['Blue', 'Red'], startangle=90, explode=(0,0.02))\n",
    "plt.title(\"Rating Status\", color =\"White\")\n",
    "plt.show()"
   ]
  },
  {
   "cell_type": "markdown",
   "id": "55d6c6b2-e385-437f-a88d-25938f149a54",
   "metadata": {},
   "source": [
    "# Website Availability Pie Chart"
   ]
  },
  {
   "cell_type": "code",
   "execution_count": 411,
   "id": "067077c0-9d3c-4ed1-acd8-34a792f05766",
   "metadata": {},
   "outputs": [
    {
     "name": "stdout",
     "output_type": "stream",
     "text": [
      "website_status\n",
      "Available      72\n",
      "Unavailable    62\n",
      "Name: count, dtype: int64\n"
     ]
    }
   ],
   "source": [
    "web_av_counts = df[\"website_status\"].value_counts()\n",
    "print(web_av_counts)"
   ]
  },
  {
   "cell_type": "code",
   "execution_count": 419,
   "id": "20ea7ec1-624f-421b-ac0f-7b069d39ca88",
   "metadata": {},
   "outputs": [
    {
     "data": {
      "image/png": "[encoded data removed]",
      "text/plain": [
       "<Figure size 800x800 with 1 Axes>"
      ]
     },
     "metadata": {},
     "output_type": "display_data"
    }
   ],
   "source": [
    "plt.style.use(\"dark_background\")\n",
    "plt.figure(figsize=(8,8))\n",
    "plt.pie(web_av_counts, labels =web_av_counts.index, autopct='%1.1f%%', colors= [\"Blue\", \"Red\"], startangle=90, explode=(0,0.02))\n",
    "plt.title(\"Website Status\", color=\"White\")\n",
    "plt.show()"
   ]
  },
  {
   "cell_type": "markdown",
   "id": "ef221eb1-757c-41f8-a662-1bee08a41ae1",
   "metadata": {},
   "source": [
    "# Architectural Graduate VS IAB Member Architects"
   ]
  },
  {
   "cell_type": "code",
   "execution_count": 455,
   "id": "a39e9911-11b7-4f89-a1d8-8911e5f3906f",
   "metadata": {},
   "outputs": [
    {
     "data": {
      "image/png": "[encoded data removed]",
      "text/plain": [
       "<Figure size 1000x600 with 1 Axes>"
      ]
     },
     "metadata": {},
     "output_type": "display_data"
    }
   ],
   "source": [
    "plt.figure(figsize=(10, 6))\n",
    "plt.scatter(df['architectural_graduate'], df['iab_member_architect'], color='Red', edgecolor='black')\n",
    "plt.xlabel('Architectural Graduates')\n",
    "plt.ylabel('IAB Member Architects')\n",
    "plt.title('Architectural Graduates vs. IAB Member Architects')\n",
    "plt.grid(True)\n",
    "plt.tight_layout()\n",
    "plt.show()"
   ]
  },
  {
   "cell_type": "code",
   "execution_count": 461,
   "id": "1caff4c6-3753-4974-9034-0e25c6078492",
   "metadata": {},
   "outputs": [
    {
     "data": {
      "text/plain": [
       "Index(['iab_id', 'company_name', 'email', 'office_address', 'rating',\n",
       "       'website', 'establish_year', 'contact', 'name_of_proprietor', 'lab_id',\n",
       "       'designation', 'iab_member_architect', 'architectural_graduate',\n",
       "       'total_member', 'rating_status', 'thana', 'year_group',\n",
       "       'website_status'],\n",
       "      dtype='object')"
      ]
     },
     "execution_count": 461,
     "metadata": {},
     "output_type": "execute_result"
    }
   ],
   "source": [
    "df.columns"
   ]
  },
  {
   "cell_type": "markdown",
   "id": "e881c50a-03f0-43af-9880-0874eb39b0db",
   "metadata": {},
   "source": [
    "# Total Companies?"
   ]
  },
  {
   "cell_type": "code",
   "execution_count": 469,
   "id": "c2e8b0d7-bfe1-4a92-ad06-4789c9eaf620",
   "metadata": {},
   "outputs": [
    {
     "name": "stdout",
     "output_type": "stream",
     "text": [
      "134\n"
     ]
    }
   ],
   "source": [
    "Total_Companies = df[\"company_name\"].nunique()\n",
    "print(Total_Companies)"
   ]
  },
  {
   "cell_type": "markdown",
   "id": "9d07e8b5-d900-4fc4-8e36-b1885ea1bc42",
   "metadata": {},
   "source": [
    "# Total IAB Member Architect?"
   ]
  },
  {
   "cell_type": "code",
   "execution_count": 473,
   "id": "692f419f-0924-4210-be6d-6798295ccb64",
   "metadata": {},
   "outputs": [
    {
     "name": "stdout",
     "output_type": "stream",
     "text": [
      "451\n"
     ]
    }
   ],
   "source": [
    "Total_IAB_Member = df['iab_member_architect'].sum()\n",
    "print(Total_IAB_Member)"
   ]
  },
  {
   "cell_type": "markdown",
   "id": "b79f9dad-1b23-4899-b564-f24185774099",
   "metadata": {},
   "source": [
    "# Total IAB Graduate?"
   ]
  },
  {
   "cell_type": "code",
   "execution_count": 475,
   "id": "9e423863-f354-4db5-baab-5d393b1a4999",
   "metadata": {},
   "outputs": [
    {
     "name": "stdout",
     "output_type": "stream",
     "text": [
      "584\n"
     ]
    }
   ],
   "source": [
    "Total_IAB_Graduate = df['architectural_graduate'].sum()\n",
    "print(Total_IAB_Graduate)"
   ]
  },
  {
   "cell_type": "markdown",
   "id": "a827393e-0da3-4495-8fad-ce0fd26d8aa7",
   "metadata": {},
   "source": [
    "# Total IAB Members?"
   ]
  },
  {
   "cell_type": "code",
   "execution_count": 477,
   "id": "d01a9fcc-ac62-40e3-9512-7c73d4fcd932",
   "metadata": {},
   "outputs": [
    {
     "name": "stdout",
     "output_type": "stream",
     "text": [
      "1015\n"
     ]
    }
   ],
   "source": [
    "Total_Member = df['total_member'].sum()\n",
    "print(Total_Member)"
   ]
  },
  {
   "cell_type": "markdown",
   "id": "3ac76eaa-a55b-43c6-8b9b-96212703ab51",
   "metadata": {},
   "source": [
    "# End"
   ]
  }
 ],
 "metadata": {
  "kernelspec": {
   "display_name": "Python 3 (ipykernel)",
   "language": "python",
   "name": "python3"
  },
  "language_info": {
   "codemirror_mode": {
    "name": "ipython",
    "version": 3
   },
   "file_extension": ".py",
   "mimetype": "text/x-python",
   "name": "python",
   "nbconvert_exporter": "python",
   "pygments_lexer": "ipython3",
   "version": "3.11.7"
  }
 },
 "nbformat": 4,
 "nbformat_minor": 5
}
